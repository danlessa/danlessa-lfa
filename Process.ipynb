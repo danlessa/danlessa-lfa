{
 "cells": [
  {
   "cell_type": "code",
   "execution_count": 12,
   "metadata": {
    "collapsed": false
   },
   "outputs": [
    {
     "name": "stdout",
     "output_type": "stream",
     "text": [
      "Manacapuru Analyzer\n"
     ]
    }
   ],
   "source": []
  },
  {
   "cell_type": "code",
   "execution_count": 33,
   "metadata": {
    "collapsed": false
   },
   "outputs": [],
   "source": [
    "def default_settings():\n",
    "    inp = input(\"Do you want to use default settings? (Y/N)\")\n",
    "    return \"N\" in inp or \"n\" in inp\n",
    "    \n",
    "def get_sources():\n",
    "    print(\"Which sources do you want to use? Separate with whitespaces\")\n",
    "    print(\"Options [default - all]:\")\n",
    "    print(\"X\\tXie & Liu from MAO radiometer\")\n",
    "    print(\"Rs\\tRFA Shortwave from MAO radiometer\")\n",
    "    print(\"Rl\\tRFA Longwave from MAO radiometer\")\n",
    "    print(\"G\\tGOES (not implemented)\")\n",
    "    print(\"Ma\\tMYD06_L2 (MODIS Aqua)\")\n",
    "    print(\"Mt\\tMOD06_L2 (MODIS Terra)\")\n",
    "    print(\"T\\tMAO Total Sky Imager\")\n",
    "    print(\"A\\tAll\")\n",
    "    print(\"Example: X Rs Rl\")\n",
    "    sources = input(\"Input\")\n",
    "    return sources.split(\" \")\n",
    "\n",
    "def xie_liu_settings():\n",
    "    return None\n",
    "\n",
    "def modis_settings():\n",
    "    return None\n",
    "\n",
    "def time_settings():\n",
    "    return None\n",
    "\n",
    "def main():\n",
    "    print(\"Manacapuru Data Processor\")\n",
    "    sources = get_sources()    \n",
    "    def_settings = default_settings()\n",
    "    \n",
    "    if ~def_settings:    \n",
    "        custom_config = {}\n",
    "        custom_config[\"Time\"] = time_settings()\n",
    "        if \"X\" in sources:\n",
    "            custom_config[\"Xie_Liu\"] = xie_liu_settings()\n",
    "        if \"Ma\" in sources or \"Mt\" in sources:\n",
    "            custom_config[\"MODIS\"] = modis_settings()    "
   ]
  },
  {
   "cell_type": "code",
   "execution_count": null,
   "metadata": {
    "collapsed": true
   },
   "outputs": [],
   "source": []
  }
 ],
 "metadata": {
  "kernelspec": {
   "display_name": "Python 3",
   "language": "python",
   "name": "python3"
  },
  "language_info": {
   "codemirror_mode": {
    "name": "ipython",
    "version": 3
   },
   "file_extension": ".py",
   "mimetype": "text/x-python",
   "name": "python",
   "nbconvert_exporter": "python",
   "pygments_lexer": "ipython3",
   "version": "3.5.2+"
  }
 },
 "nbformat": 4,
 "nbformat_minor": 2
}
