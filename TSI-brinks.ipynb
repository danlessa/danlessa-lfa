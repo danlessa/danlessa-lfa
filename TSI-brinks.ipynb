{
 "cells": [
  {
   "cell_type": "code",
   "execution_count": 21,
   "metadata": {
    "collapsed": true
   },
   "outputs": [],
   "source": [
    "import matplotlib.pyplot as plt\n",
    "import pandas as pd\n",
    "import numpy as np\n",
    "import netCDF4 as nc"
   ]
  },
  {
   "cell_type": "code",
   "execution_count": 22,
   "metadata": {
    "collapsed": false
   },
   "outputs": [
    {
     "data": {
      "text/plain": [
       "odict_keys(['base_time', 'time_offset', 'time', 'qc_time', 'percent_opaque', 'qc_percent_opaque', 'percent_thin', 'qc_percent_thin', 'sunny', 'qc_sunny', 'sun_strength', 'qc_sun_strength', 'solar_altitude', 'qc_solar_altitude', 'solar_azimuth', 'qc_solar_azimuth', 'region_zenith_count_thin', 'qc_region_zenith_count_thin', 'region_zenith_count_opaque', 'qc_region_zenith_count_opaque', 'region_zenith_count', 'qc_region_zenith_count', 'region_sun_count_thin', 'qc_region_sun_count_thin', 'region_sun_count_opaque', 'qc_region_sun_count_opaque', 'region_sun_count', 'qc_region_sun_count', 'region_horizon_count_thin', 'qc_region_horizon_count_thin', 'region_horizon_count_opaque', 'qc_region_horizon_count_opaque', 'region_horizon_count', 'qc_region_horizon_count', 'count_sub_proczen', 'qc_count_sub_proczen', 'count_opaque', 'qc_count_opaque', 'count_thin', 'qc_count_thin', 'count_box', 'qc_count_box', 'count_sky', 'qc_count_sky', 'count_unknown', 'qc_count_unknown', 'count_mask', 'qc_count_mask', 'count_sub_horz', 'qc_count_sub_horz', 'lat', 'lon', 'alt'])"
      ]
     },
     "execution_count": 22,
     "metadata": {},
     "output_type": "execute_result"
    }
   ],
   "source": [
    "test_path = \"dados/maotsi/maotsiskycoverM1.b1.20131223.164530.cdf\"\n",
    "dataset = nc.Dataset(test_path, \"r\")\n",
    "dataset.variables.keys()"
   ]
  },
  {
   "cell_type": "code",
   "execution_count": 27,
   "metadata": {
    "collapsed": false
   },
   "outputs": [],
   "source": [
    "raw = pd.read_csv(\"CF-TSI.csv\")\n",
    "raw.CloudFraction = pd.to_numeric(raw.CloudFraction, errors=\"coerce\")\n",
    "raw = raw[~np.isnan(raw.CloudFraction)]"
   ]
  },
  {
   "cell_type": "code",
   "execution_count": 26,
   "metadata": {
    "collapsed": false
   },
   "outputs": [
    {
     "data": {
      "image/png": "[encoded data removed]",
      "text/plain": [
       "<matplotlib.figure.Figure at 0x7f559a658a58>"
      ]
     },
     "metadata": {},
     "output_type": "display_data"
    }
   ],
   "source": [
    "plt.hist(raw.CloudFraction, range=(0, 1))\n",
    "plt.show()"
   ]
  },
  {
   "cell_type": "code",
   "execution_count": 25,
   "metadata": {
    "collapsed": false
   },
   "outputs": [
    {
     "data": {
      "image/png": "[encoded data removed]",
      "text/plain": [
       "<matplotlib.figure.Figure at 0x7f5591a15ac8>"
      ]
     },
     "metadata": {},
     "output_type": "display_data"
    }
   ],
   "source": [
    "plt.hist2d(x=raw.Time, y=raw.CloudFraction, bins=30, range=[[30000, 80000], [0, 1]], normed=True)\n",
    "plt.colorbar()\n",
    "plt.show()"
   ]
  },
  {
   "cell_type": "code",
   "execution_count": 31,
   "metadata": {
    "collapsed": false
   },
   "outputs": [
    {
     "data": {
      "text/plain": [
       "25            0.0\n",
       "26           30.0\n",
       "27           60.0\n",
       "28           90.0\n",
       "29          120.0\n",
       "30          150.0\n",
       "31          180.0\n",
       "32          210.0\n",
       "33          240.0\n",
       "34          270.0\n",
       "35          300.0\n",
       "36          330.0\n",
       "37          360.0\n",
       "38          390.0\n",
       "39          420.0\n",
       "40          450.0\n",
       "41          480.0\n",
       "42          510.0\n",
       "43          540.0\n",
       "44          570.0\n",
       "45          600.0\n",
       "46          630.0\n",
       "47          660.0\n",
       "48          690.0\n",
       "49          720.0\n",
       "50          750.0\n",
       "51          780.0\n",
       "52          810.0\n",
       "53          840.0\n",
       "54          870.0\n",
       "           ...   \n",
       "886866    41430.0\n",
       "886867    41460.0\n",
       "886868    41490.0\n",
       "886869    41520.0\n",
       "886870    41550.0\n",
       "886871    41580.0\n",
       "886872    41610.0\n",
       "886873    41640.0\n",
       "886874    41670.0\n",
       "886875    41700.0\n",
       "886876    41730.0\n",
       "886877    41760.0\n",
       "886878    41790.0\n",
       "886879    41820.0\n",
       "886880    41850.0\n",
       "886881    41880.0\n",
       "886882    41910.0\n",
       "886883    41940.0\n",
       "886884    41970.0\n",
       "886885    42000.0\n",
       "886886    42030.0\n",
       "886887    42060.0\n",
       "886888    42090.0\n",
       "886889    42120.0\n",
       "886890    42150.0\n",
       "886891    42180.0\n",
       "886892    42210.0\n",
       "886893    42240.0\n",
       "886894    42270.0\n",
       "886895    42300.0\n",
       "Name: Time, dtype: float64"
      ]
     },
     "execution_count": 31,
     "metadata": {},
     "output_type": "execute_result"
    }
   ],
   "source": [
    "raw.Time - raw.Time[25]"
   ]
  },
  {
   "cell_type": "code",
   "execution_count": null,
   "metadata": {
    "collapsed": true
   },
   "outputs": [],
   "source": []
  }
 ],
 "metadata": {
  "kernelspec": {
   "display_name": "Python 3",
   "language": "python",
   "name": "python3"
  },
  "language_info": {
   "codemirror_mode": {
    "name": "ipython",
    "version": 3
   },
   "file_extension": ".py",
   "mimetype": "text/x-python",
   "name": "python",
   "nbconvert_exporter": "python",
   "pygments_lexer": "ipython3",
   "version": "3.5.2+"
  }
 },
 "nbformat": 4,
 "nbformat_minor": 2
}
