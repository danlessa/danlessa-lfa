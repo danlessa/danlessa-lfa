{
 "cells": [
  {
   "cell_type": "code",
   "execution_count": 7,
   "metadata": {},
   "outputs": [
    {
     "name": "stderr",
     "output_type": "stream",
     "text": [
      "/usr/local/lib/python3.5/dist-packages/numpy/lib/nanfunctions.py:1423: RuntimeWarning: Degrees of freedom <= 0 for slice.\n",
      "  keepdims=keepdims)\n",
      "/usr/local/lib/python3.5/dist-packages/ipykernel/__main__.py:23: RuntimeWarning: Mean of empty slice\n",
      "/usr/local/lib/python3.5/dist-packages/ipykernel/__main__.py:24: RuntimeWarning: Mean of empty slice\n"
     ]
    },
    {
     "name": "stdout",
     "output_type": "stream",
     "text": [
      "3600\n",
      "3500\n",
      "3400\n",
      "3300\n",
      "3200\n",
      "3100\n",
      "3000\n",
      "2900\n",
      "2800\n",
      "2700\n",
      "2600\n",
      "2500\n",
      "2400\n",
      "2300\n",
      "2200\n",
      "2100\n",
      "2000\n",
      "1900\n",
      "1800\n",
      "1700\n",
      "1600\n",
      "1500\n",
      "1400\n",
      "1300\n",
      "1200\n",
      "1100\n",
      "1000\n",
      "900\n",
      "800\n",
      "700\n",
      "600\n",
      "500\n",
      "400\n",
      "300\n",
      "200\n",
      "100\n",
      "0\n"
     ]
    }
   ],
   "source": [
    "n = len(paths)\n",
    "\n",
    "lon_std = np.zeros(n)\n",
    "lat_std = np.zeros(n)\n",
    "lon_mean = np.zeros(n)\n",
    "lat_mean = np.zeros(n)\n",
    "qtd = np.zeros(n)\n",
    "i = 0\n",
    "d = 0.5\n",
    "\n",
    "for path in paths:\n",
    "    sd = SD(path)\n",
    "    lat = np.array(sd.select(\"Latitude\")[:]).flatten()\n",
    "    lat_delta = lat - lat_mao\n",
    "    \n",
    "    lon = np.array(sd.select(\"Longitude\")[:]).flatten()\n",
    "    lon_delta = lon - lon_mao\n",
    "    \n",
    "    inds = (lat_delta < d) & (lat_delta > -d) & (lon_delta < d) & (lon_delta > -d)\n",
    "    \n",
    "    lon_std[i] = np.nanstd(lon_delta[inds])\n",
    "    lat_std[i] = np.nanstd(lat_delta[inds])\n",
    "    lon_mean[i] = np.nanmean(lon_delta[inds])\n",
    "    lat_mean[i] = np.nanmean(lat_delta[inds])\n",
    "    qtd[i] = len(lat[inds])\n",
    "    i += 1\n",
    "    k = (n - i) % 100\n",
    "    if k == 0:\n",
    "        print(n - i)\n",
    "    \n",
    "output = {\"lon_std\": lon_std, \"lat_std\": lat_std, \"lon_mean\": lon_mean, \"lat_mean\": lat_mean, \"qtd\": qtd}\n",
    "raw = pd.DataFrame(output)\n",
    "raw.to_csv(\"modis-stats.csv\", index=False)"
   ]
  },
  {
   "cell_type": "code",
   "execution_count": 43,
   "metadata": {},
   "outputs": [],
   "source": [
    "true_std = np.sqrt(1/12)"
   ]
  },
  {
   "cell_type": "code",
   "execution_count": 10,
   "metadata": {},
   "outputs": [
    {
     "data": {
      "text/plain": [
       "Index(['lat_mean', 'lat_std', 'lon_mean', 'lon_std', 'qtd'], dtype='object')"
      ]
     },
     "execution_count": 10,
     "metadata": {},
     "output_type": "execute_result"
    }
   ],
   "source": [
    "raw.columns"
   ]
  },
  {
   "cell_type": "code",
   "execution_count": 9,
   "metadata": {},
   "outputs": [],
   "source": [
    "def h(dat):\n",
    "    return dat[np.isfinite(dat)]"
   ]
  },
  {
   "cell_type": "code",
   "execution_count": 24,
   "metadata": {},
   "outputs": [
    {
     "data": {
      "image/png": "[encoded data removed]",
      "text/plain": [
       "<matplotlib.figure.Figure at 0x7fd69781ba58>"
      ]
     },
     "metadata": {},
     "output_type": "display_data"
    }
   ],
   "source": [
    "plt.hist(h(raw.lat_std / raw.qtd), bins=20)\n",
    "plt.show()"
   ]
  },
  {
   "cell_type": "code",
   "execution_count": 171,
   "metadata": {},
   "outputs": [],
   "source": [
    "a = true_std / raw.qtd\n",
    "b = np.abs(raw.lat_mean) < 0\n",
    "d = 0.03\n",
    "#b = (np.abs(raw.lat_std - true_std) < d) & (np.abs(raw.lon_std - true_std) < d)\n",
    "b = (np.abs(raw.lat_mean) < d) & (np.abs(raw.lon_mean) < d)"
   ]
  },
  {
   "cell_type": "code",
   "execution_count": 172,
   "metadata": {},
   "outputs": [
    {
     "name": "stdout",
     "output_type": "stream",
     "text": [
      "0.8217654986522911\n"
     ]
    },
    {
     "data": {
      "image/png": "[encoded data removed]",
      "text/plain": [
       "<matplotlib.figure.Figure at 0x7fd6975df940>"
      ]
     },
     "metadata": {},
     "output_type": "display_data"
    }
   ],
   "source": [
    "plt.hist(h(raw.lat_std[b]))\n",
    "print(len(raw.lon_mean[b]) / len(h(raw.lon_mean)))\n",
    "plt.show()"
   ]
  },
  {
   "cell_type": "code",
   "execution_count": 152,
   "metadata": {},
   "outputs": [
    {
     "data": {
      "image/png": "[encoded data removed]",
      "text/plain": [
       "<matplotlib.figure.Figure at 0x7fd6979e0048>"
      ]
     },
     "metadata": {},
     "output_type": "display_data"
    }
   ],
   "source": [
    "plt.hist(h(raw.lat_mean))\n",
    "plt.show()"
   ]
  },
  {
   "cell_type": "code",
   "execution_count": 119,
   "metadata": {},
   "outputs": [
    {
     "data": {
      "image/png": "[encoded data removed]",
      "text/plain": [
       "<matplotlib.figure.Figure at 0x7fd6973e84a8>"
      ]
     },
     "metadata": {},
     "output_type": "display_data"
    }
   ],
   "source": [
    "plt.hist(raw.qtd[b])\n",
    "plt.show()"
   ]
  },
  {
   "cell_type": "raw",
   "metadata": {},
   "source": []
  },
  {
   "cell_type": "code",
   "execution_count": 141,
   "metadata": {},
   "outputs": [
    {
     "data": {
      "image/png": "[encoded data removed]",
      "text/plain": [
       "<matplotlib.figure.Figure at 0x7fd69799fda0>"
      ]
     },
     "metadata": {},
     "output_type": "display_data"
    }
   ],
   "source": [
    "plt.matshow(np.abs(sd.select(\"Sensor_Zenith\")[:]))\n",
    "plt.colorbar()\n",
    "plt.show()\n"
   ]
  },
  {
   "cell_type": "code",
   "execution_count": null,
   "metadata": {
    "collapsed": true
   },
   "outputs": [],
   "source": []
  }
 ],
 "metadata": {
  "kernelspec": {
   "display_name": "Python 3",
   "language": "python",
   "name": "python3"
  },
  "language_info": {
   "codemirror_mode": {
    "name": "ipython",
    "version": 3
   },
   "file_extension": ".py",
   "mimetype": "text/x-python",
   "name": "python",
   "nbconvert_exporter": "python",
   "pygments_lexer": "ipython3",
   "version": "3.5.3"
  }
 },
 "nbformat": 4,
 "nbformat_minor": 2
}
