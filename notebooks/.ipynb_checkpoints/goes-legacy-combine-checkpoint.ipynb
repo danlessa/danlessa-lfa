{
 "cells": [
  {
   "cell_type": "markdown",
   "metadata": {},
   "source": [
    "# \n",
    "\n",
    "Danilo Lessa Bernardineli (danilo.lessa@gmail.com)\n",
    "\n",
    "Esse script combina os arquivos .csv de output do programa de processamento de imagens do GOES do Alexandre em uma tabela só, com data-hora inclusa"
   ]
  },
  {
   "cell_type": "code",
   "execution_count": 2,
   "metadata": {
    "collapsed": true
   },
   "outputs": [],
   "source": [
    "# Dependências\n",
    "\n",
    "import netCDF4 as nc\n",
    "import os\n",
    "import numpy as np\n",
    "import pandas as pd\n",
    "import matplotlib.pyplot as plt\n",
    "import datetime as dt\n",
    "import pickle as pkl"
   ]
  },
  {
   "cell_type": "code",
   "execution_count": 3,
   "metadata": {},
   "outputs": [],
   "source": [
    "# Parâmetros\n",
    "\n",
    "path = os.path.expanduser(\"~/dados-ic/GOES_acorreia\")\n",
    "output_path = os.path.expanduser(\"~/dados-ic/processed/goes_acorreia.csv\")\n",
    "pkl_path = os.path.expanduser(\"~/dados-ic/processed/goes_acorreia.pkl\")"
   ]
  },
  {
   "cell_type": "code",
   "execution_count": 4,
   "metadata": {
    "collapsed": true
   },
   "outputs": [],
   "source": [
    "# Definições\n",
    "\n",
    "col_names = [\"N\", \"N_cloud\", \"CF\", \"CREF_c_avg\", \"CREF_c_std\", \"T_c_avg\",\n",
    "             \"T_c_std\", \"CREF_nc_avg\", \"CREF_nc_std\", \"T_nc_avg\", \"T_nc_std\"]"
   ]
  },
  {
   "cell_type": "code",
   "execution_count": 5,
   "metadata": {},
   "outputs": [],
   "source": [
    "filelist = os.listdir(path)\n",
    "filepathlist = [os.path.join(path, f) for f in filelist]\n",
    "filepathlist.sort()"
   ]
  },
  {
   "cell_type": "code",
   "execution_count": 6,
   "metadata": {},
   "outputs": [],
   "source": [
    "data = pd.DataFrame(columns=col_names)"
   ]
  },
  {
   "cell_type": "code",
   "execution_count": 7,
   "metadata": {},
   "outputs": [
    {
     "name": "stdout",
     "output_type": "stream",
     "text": [
      "/home/danilo/dados-ic/GOES_acorreia/goes13.2015.365.214519_box50_lat-2.98_lon-59.99_cloudfraction.csv\r"
     ]
    }
   ],
   "source": [
    "for filepath in filepathlist:\n",
    "    raw = pd.read_csv(filepath, names=col_names)\n",
    "    \n",
    "    s = filepath.split(\"goes\")[1]\n",
    "    s = s.split(\"_\")[0]\n",
    "    sl = s.split(\".\")\n",
    "    dattime = sl[1] + sl[2] + sl[3]\n",
    "    datetime = dt.datetime.strptime(dattime, \"%Y%j%H%M%S\")     \n",
    "    raw[\"datetime\"] = datetime\n",
    "    \n",
    "    data = data.append(raw)\n",
    "    print(filepath, end=\"\\r\")"
   ]
  },
  {
   "cell_type": "code",
   "execution_count": 8,
   "metadata": {},
   "outputs": [],
   "source": [
    "data.to_csv(output_path, index=False)\n",
    "with open(pkl_path, \"wb\") as fid:\n",
    "    pkl.dump(data, fid)"
   ]
  }
 ],
 "metadata": {
  "kernelspec": {
   "display_name": "Python 3",
   "language": "python",
   "name": "python3"
  },
  "language_info": {
   "codemirror_mode": {
    "name": "ipython",
    "version": 3
   },
   "file_extension": ".py",
   "mimetype": "text/x-python",
   "name": "python",
   "nbconvert_exporter": "python",
   "pygments_lexer": "ipython3",
   "version": "3.5.3"
  }
 },
 "nbformat": 4,
 "nbformat_minor": 2
}
