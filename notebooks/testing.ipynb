{
 "cells": [
  {
   "cell_type": "code",
   "execution_count": 107,
   "metadata": {
    "collapsed": true
   },
   "outputs": [],
   "source": [
    "import pandas as pd\n",
    "import os\n",
    "import scipy.stats as st\n",
    "import numpy as np\n",
    "import matplotlib.pyplot as plt\n",
    "import pylab\n",
    "pylab.rcParams['figure.figsize'] = (15, 6)"
   ]
  },
  {
   "cell_type": "markdown",
   "metadata": {},
   "source": [
    "## Carregar dados"
   ]
  },
  {
   "cell_type": "code",
   "execution_count": 257,
   "metadata": {
    "collapsed": true
   },
   "outputs": [],
   "source": [
    "proc_path = os.path.expanduser(\"~/dados-ic/output/\")"
   ]
  },
  {
   "cell_type": "code",
   "execution_count": 311,
   "metadata": {},
   "outputs": [],
   "source": [
    "myd_path = os.path.join(proc_path, \"modis_aqua.csv\")\n",
    "tsi_path = os.path.join(proc_path, \"tsi-centered-myd.csv\")"
   ]
  },
  {
   "cell_type": "code",
   "execution_count": 312,
   "metadata": {},
   "outputs": [],
   "source": [
    "data1 = pd.read_csv(myd_path, na_values=[\"--\"])\n",
    "data1.Time = pd.to_datetime(data1.Time)\n",
    "\n",
    "data2 = pd.read_csv(tsi_path, na_values=[\"--\"])\n",
    "data2.Time = pd.to_datetime(data2.Time)"
   ]
  },
  {
   "cell_type": "markdown",
   "metadata": {},
   "source": [
    "## Filtrar dados"
   ]
  },
  {
   "cell_type": "code",
   "execution_count": 313,
   "metadata": {},
   "outputs": [],
   "source": [
    "# Coloque aqui colunas para serem comparadas\n",
    "col1 = \"Cloud_Fraction\"\n",
    "col2 = \"TSI_CloudFraction\"\n",
    "delta_col = \"Delta\"\n",
    "filter_col = \"Timedelta\"\n",
    "\n",
    "# Filtrar NaNs\n",
    "data3 = pd.merge(data1, data2, on=\"Time\", how=\"outer\")\n",
    "y1 = data3[col1]\n",
    "y2 = data3[col2]\n",
    "inds = np.isfinite(y1)\n",
    "inds &= np.isfinite(y2)\n",
    "data3 = data3[inds]"
   ]
  },
  {
   "cell_type": "code",
   "execution_count": 314,
   "metadata": {},
   "outputs": [],
   "source": [
    "timedeltas = sorted(np.unique(data3[\"Timedelta\"]))\n",
    "deltas = sorted(np.unique(data3[\"Delta\"]))\n",
    "\n",
    "qtd_deltas = len(deltas)\n",
    "qtd_timedeltas = len(timedeltas)\n",
    "\n",
    "mtr = np.zeros((qtd_timedeltas, qtd_deltas))"
   ]
  },
  {
   "cell_type": "code",
   "execution_count": 315,
   "metadata": {},
   "outputs": [],
   "source": [
    "i = 0\n",
    "j = 0\n",
    "\n",
    "for timedelta in timedeltas:\n",
    "    for delta in deltas:\n",
    "        output[\"delta\"].append(delta)\n",
    "\n",
    "        data4 = data3[data3[\"Delta\"] == delta]\n",
    "        data4 = data4[data4[\"Timedelta\"] == timedelta]\n",
    "        y1 = data4[col1]\n",
    "        y2 = data4[col2]\n",
    "\n",
    "        inds = np.isfinite(y2)\n",
    "        inds &= np.isfinite(y1)\n",
    "        #inds &= y1 < 0.99\n",
    "        #inds &= y2 < 0.99\n",
    "\n",
    "        y1 = y1[inds]\n",
    "        y2 = y2[inds]\n",
    "        mtr[i, j] = np.corrcoef(y1, y2)[1, 0]\n",
    "        j += 1\n",
    "    j = 0\n",
    "    i += 1\n",
    "\n",
    "#plt.plot(output[\"delta\"], output[\"r\"], '--o')\n",
    "#plt.title(\"Correlação entre %s e %s, fixado em %s=%s\" % (col1, col2, filter_col, data3[filter_col].iloc[0]))\n",
    "#plt.xlabel(delta_col)\n",
    "#plt.ylabel(\"r²\")\n",
    "#plt.show()"
   ]
  },
  {
   "cell_type": "code",
   "execution_count": 316,
   "metadata": {},
   "outputs": [
    {
     "data": {
      "image/png": "[encoded data removed]",
      "text/plain": [
       "<matplotlib.figure.Figure at 0x7efc8fbe0978>"
      ]
     },
     "metadata": {},
     "output_type": "display_data"
    }
   ],
   "source": [
    "plt.matshow(mtr)\n",
    "plt.xticks(np.arange(len(deltas)), deltas)\n",
    "plt.yticks(np.arange(len(timedeltas)), np.array(timedeltas) / 60)\n",
    "plt.xlabel(\"Tamanho da caixa espacial em graus\")\n",
    "plt.ylabel(\"Tamanho da caixa temporal em minutos\")\n",
    "plt.colorbar(label=\"Correlação\")\n",
    "plt.suptitle(\"Correlação entre %s e %s\" % (col1, col2))\n",
    "plt.show()"
   ]
  },
  {
   "cell_type": "code",
   "execution_count": null,
   "metadata": {
    "collapsed": true
   },
   "outputs": [],
   "source": []
  }
 ],
 "metadata": {
  "kernelspec": {
   "display_name": "Python 3",
   "language": "python",
   "name": "python3"
  },
  "language_info": {
   "codemirror_mode": {
    "name": "ipython",
    "version": 3
   },
   "file_extension": ".py",
   "mimetype": "text/x-python",
   "name": "python",
   "nbconvert_exporter": "python",
   "pygments_lexer": "ipython3",
   "version": "3.5.3"
  }
 },
 "nbformat": 4,
 "nbformat_minor": 2
}
