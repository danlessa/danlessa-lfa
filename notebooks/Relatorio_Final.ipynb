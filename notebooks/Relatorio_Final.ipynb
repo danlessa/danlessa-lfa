{
 "cells": [
  {
   "cell_type": "markdown",
   "metadata": {},
   "source": [
    "# Notebook para geração das figuras no relatório final\n",
    "\n",
    "Danilo Lessa Bernardineli"
   ]
  },
  {
   "cell_type": "markdown",
   "metadata": {},
   "source": [
    "## Dependências e definições"
   ]
  },
  {
   "cell_type": "code",
   "execution_count": 1,
   "metadata": {},
   "outputs": [],
   "source": [
    "import os\n",
    "import numpy as np\n",
    "import matplotlib.pyplot as plt\n",
    "import scipy.stats as st\n",
    "import matplotlib\n",
    "import pandas as pd\n",
    "import pylab\n",
    "import scipy\n",
    "from matplotlib.ticker import FormatStrFormatter"
   ]
  },
  {
   "cell_type": "code",
   "execution_count": 2,
   "metadata": {},
   "outputs": [],
   "source": [
    "# Tamanho das figuras em polegadas\n",
    "pylab.rcParams['figure.figsize'] = (20, 10)\n",
    "\n",
    "# Constantes\n",
    "satellite_sources = [\"goes\", \"modis-terra\", \"modis-aqua\"]\n",
    "\n",
    "data_dir = os.path.expanduser(\"~/dados-ic/output\")\n",
    "\n",
    "path_list = {\"goes\": \"goes.csv\",\n",
    "             \"modis-terra\": \"mod.csv\",\n",
    "             \"modis-aqua\": \"myd.csv\",\n",
    "             \"tsi\": \"tsi.csv\",\n",
    "             \"rad-long\": \"rad.csv\",\n",
    "             \"rad-long-longwave\": \"rad.csv\",\n",
    "             \"rad-xl\": \"rad.csv\",\n",
    "             \"rad-xl-corr\": \"rad.csv\"}\n",
    "\n",
    "cf_list = {\"rad-long\": \"Long_SW_CloudFraction\",\n",
    "           \"rad-long-longwave\": \"Long_LW_CloudFraction\",\n",
    "           \"rad-xl\" : \"XL_CloudFraction\",\n",
    "           \"rad-xl-corr\": \"XL_CloudFractionCorrected\",\n",
    "           \"tsi\": \"TSI_CloudFraction\",\n",
    "           \"goes\": \"CloudFraction_VIS\",\n",
    "           \"modis-aqua\": \"Cloud_Fraction\",\n",
    "           \"modis-terra\": \"Cloud_Fraction\"}"
   ]
  },
  {
   "cell_type": "markdown",
   "metadata": {},
   "source": [
    "## Funções comuns"
   ]
  },
  {
   "cell_type": "code",
   "execution_count": 3,
   "metadata": {},
   "outputs": [],
   "source": [
    "def load_datasets(name1, name2):\n",
    "    \"\"\"\n",
    "    Carrega datasets correlacionados\n",
    "    \"\"\"\n",
    "    \n",
    "    if (name1 == name2):\n",
    "        return\n",
    "            \n",
    "    if (name1 not in satellite_sources) and (name2 not in satellite_sources):\n",
    "        hasSat = False\n",
    "        if (name1 == \"tsi\"):\n",
    "            path = os.path.join(data_dir, path_list[name1][:-4] + \"-centered-\" + path_list[name2])\n",
    "        elif (\"rad\" in name1) and (\"rad\" in name2):\n",
    "            path = os.path.join(data_dir, \"rad.csv\")\n",
    "        else:\n",
    "            path = os.path.join(data_dir, path_list[name2][:-4] + \"-centered-\" + path_list[name1]) \n",
    "        ds = pd.read_csv(path, na_values=[\"--\"], parse_dates=[\"Time\"])\n",
    "    else:\n",
    "        hasSat = True\n",
    "        \n",
    "        _name1 = name1\n",
    "        _name2 = name2\n",
    "        \n",
    "        if (_name1 not in satellite_sources):\n",
    "            _name1 = name2\n",
    "            _name2 = name1                 \n",
    "        if (_name2 == \"goes\"):\n",
    "            _name2 = _name1\n",
    "            _name1 = \"goes\"\n",
    "            \n",
    "        if (\"modis\" in _name2):\n",
    "            __name1 = _name1\n",
    "            _name1 = _name2\n",
    "            _name2 = __name1\n",
    "            \n",
    "        path1 = os.path.join(data_dir, path_list[_name1])\n",
    "        path2 = os.path.join(data_dir, path_list[_name2])\n",
    "        path2 = path2[:-4] + \"-centered-\" + path_list[_name1]\n",
    "        ds1 = pd.read_csv(path1, na_values=[\"--\"], parse_dates=[\"Time\"])\n",
    "        ds2 = pd.read_csv(path2, na_values=[\"--\"], parse_dates=[\"Time\"])\n",
    "        ds = pd.merge(ds1, ds2, on=\"Time\", how=\"outer\")\n",
    "    \n",
    "    return {\"Dataset\": ds, \"hasSat\": hasSat}\n",
    "\n",
    "\n",
    "def analyze(dataset, name1, name2, plot=False, output_file=\"\"):\n",
    "    try:\n",
    "        ds = dataset[\"Dataset\"]\n",
    "        col1 = cf_list[name1]\n",
    "        col2 = cf_list[name2]\n",
    "\n",
    "        data3 = ds.copy()\n",
    "        ind = np.isfinite(data3[col1])\n",
    "        ind &= np.isfinite(data3[col2])\n",
    "        data3 = data3[ind]\n",
    "\n",
    "        if not dataset[\"hasSat\"]:\n",
    "            if (\"rad\" in name1) and (\"rad\" in name2):\n",
    "                return None\n",
    "            else:\n",
    "                filter_col = \"Timedelta\"\n",
    "                timedeltas = np.unique(data3.Timedelta)\n",
    "                qtd_timedeltas = len(timedeltas)\n",
    "                mtr = np.zeros((qtd_timedeltas))\n",
    "                p_mtr = np.zeros((qtd_timedeltas))\n",
    "                n_mtr = np.zeros((qtd_timedeltas))\n",
    "                i = 0\n",
    "                for timedelta in timedeltas:\n",
    "                    data4 = data3[data3[filter_col] == timedelta]\n",
    "                    y1 = data4[col1]\n",
    "                    y2 = data4[col2]\n",
    "\n",
    "                    inds = np.isfinite(y2)\n",
    "                    inds &= np.isfinite(y1)\n",
    "\n",
    "                    y1 = y1[inds]\n",
    "                    y2 = y2[inds]\n",
    "                    (r, p) = st.pearsonr(y1, y2)\n",
    "                    mtr[i] = r\n",
    "                    n_mtr[i] = len(y1)\n",
    "                    i += 1\n",
    "\n",
    "                gs = matplotlib.gridspec.GridSpec(2, 1, height_ratios=[3, 1]) \n",
    "                ax1 = plt.subplot(gs[0])\n",
    "                ax2 = plt.subplot(gs[1])\n",
    "                ax1.plot(timedeltas / 60, mtr, 'o')\n",
    "                ax1.set_title(\"Correlação entre %s e %s\" % (name1, name2))\n",
    "                ax1.set_xlabel(\"Tempo de amostragem (minutos)\")\n",
    "                ax1.set_ylabel(\"Coeficiente de correlação de Pearson\")\n",
    "                data3_hours = data3.Time.dt.hour\n",
    "                ax2.hist(data3_hours, bins=24, range=(0, 24), label=\"Quantidade de combinações de dados\")\n",
    "                ax2.axvline(22, color='k', label=\"Intervalo entre 10h e 22h UTC\")\n",
    "                ax2.axvline(10, color='k')\n",
    "                ax2.set_xlim((0, 24))\n",
    "                ax2.set_title(\"Histograma das horas dos dados combinados\")\n",
    "                ax2.set_ylabel(\"Quantidade\")\n",
    "                ax2.set_xlabel(\"Horas (UTC)\")\n",
    "                ax2.legend()\n",
    "                if output_file is not \"\":\n",
    "                    plt.savefig(output_file, odpi=300)\n",
    "                if plot is True:\n",
    "                    plt.show()\n",
    "                plt.clf()\n",
    "        else:\n",
    "            delta_col = \"Delta\"\n",
    "            filter_col = \"Timedelta\"\n",
    "\n",
    "            fix_delta_goes = True\n",
    "            delta_goes = 0.5\n",
    "\n",
    "            # Filtrar NaNs\n",
    "            y1 = data3[col1]\n",
    "            y2 = data3[col2]\n",
    "            inds = np.isfinite(y1)\n",
    "            inds &= np.isfinite(y2)\n",
    "            data3 = data3[inds]\n",
    "\n",
    "            if (name1 == \"goes\"):\n",
    "                delta_col = \"Delta_x\"\n",
    "                if (fix_delta_goes is True):\n",
    "                    inds = data3[\"Delta_y\"] == delta_goes\n",
    "                    data3 = data3[inds]\n",
    "\n",
    "            timedeltas = sorted(np.unique(data3[filter_col]))\n",
    "            deltas = sorted(np.unique(data3[delta_col]))\n",
    "\n",
    "            qtd_deltas = len(deltas)\n",
    "            qtd_timedeltas = len(timedeltas)\n",
    "\n",
    "            mtr = np.zeros((qtd_timedeltas, qtd_deltas))\n",
    "            p_mtr = np.zeros((qtd_timedeltas, qtd_deltas))\n",
    "            n_mtr = np.zeros((qtd_timedeltas, qtd_deltas))\n",
    "            i = 0\n",
    "            j = 0\n",
    "            for timedelta in timedeltas:\n",
    "                for delta in deltas:\n",
    "\n",
    "                    data4 = data3[data3[delta_col] == delta]\n",
    "                    data4 = data4[data4[filter_col] == timedelta]\n",
    "                    y1 = data4[col1]\n",
    "                    y2 = data4[col2]\n",
    "\n",
    "                    inds = np.isfinite(y2)\n",
    "                    inds &= np.isfinite(y1)\n",
    "                    #inds &= y1 < 0.99\n",
    "                    #inds &= y2 < 0.99\n",
    "\n",
    "                    y1 = y1[inds]\n",
    "                    y2 = y2[inds]\n",
    "                    (r, p) = st.pearsonr(y1, y2)\n",
    "                    mtr[i, j] = r\n",
    "                    n_mtr[i, j] = len(y1)\n",
    "                    p_mtr[i, j] = p\n",
    "                    #mtr[i, j] = len(y1)\n",
    "                    j += 1\n",
    "                j = 0\n",
    "                i += 1\n",
    "\n",
    "            gs = matplotlib.gridspec.GridSpec(2, 1, height_ratios=[3, 1]) \n",
    "            plot_mtr = mtr\n",
    "            ax1 = plt.subplot(gs[0])\n",
    "            ax2 = plt.subplot(gs[1])        \n",
    "            mp = ax1.matshow(plot_mtr, aspect=\"auto\")\n",
    "            ax1.set_xlabel(\"Tamanho da caixa espacial em graus\")    \n",
    "            xticks = np.arange(len(deltas))\n",
    "            xticklabels = [\"{:.1f}\".format(it) for it in deltas]\n",
    "            ax1.set_xticks(xticks)\n",
    "            ax1.set_xticklabels(xticklabels)\n",
    "            ax1.set_ylabel(\"Tamanho da caixa temporal em minutos\")        \n",
    "            yticks = np.arange(len(timedeltas))\n",
    "            yticklabels = [\"{:.0f}\".format(it / 60) for it in timedeltas]\n",
    "            ax1.set_yticks(yticks)\n",
    "            ax1.set_yticklabels(yticklabels)\n",
    "            CS = ax1.contour(xticks, yticks, plot_mtr, colors=\"k\")        \n",
    "            plt.colorbar(mp, label=\"Coeficiente de Correlação de Pearson\", ax=ax1)\n",
    "            ax1.set_title(\"Correlação entre %s e %s\" % (name1, name2))\n",
    "            for (i, j), z in np.ndenumerate(plot_mtr):\n",
    "                ax1.text(j, i, '{:0.2f}'.format(z), ha='center', va='center', fontsize=10)\n",
    "            data3_hours = data3.Time.dt.hour\n",
    "            ax2.hist(data3_hours, bins=24, range=(0, 24), label=\"Quantidade de combinações de dados\")\n",
    "            ax2.axvline(22, color='k', label=\"Intervalo entre 10h e 22h UTC\")\n",
    "            ax2.axvline(10, color='k')\n",
    "            ax2.set_xlim((0, 24))\n",
    "            ax2.set_title(\"Histograma das horas dos dados combinados\")\n",
    "            ax2.set_ylabel(\"Quantidade\")\n",
    "            ax2.set_xlabel(\"Horas (UTC)\")\n",
    "            ax2.legend()\n",
    "            if output_file != \"\":\n",
    "                plt.savefig(output_file, odpi=300)\n",
    "            if plot is True:\n",
    "                plt.show()\n",
    "            plt.clf()\n",
    "        return mtr\n",
    "    except:\n",
    "        return None\n"
   ]
  },
  {
   "cell_type": "markdown",
   "metadata": {},
   "source": [
    "### Ver graficamente as correlações entre diferentes amostragens"
   ]
  },
  {
   "cell_type": "code",
   "execution_count": 6,
   "metadata": {},
   "outputs": [
    {
     "data": {
      "image/png": "[encoded data removed]",
      "text/plain": [
       "<matplotlib.figure.Figure at 0x7f9a2be4a6a0>"
      ]
     },
     "metadata": {},
     "output_type": "display_data"
    },
    {
     "data": {
      "text/plain": [
       "<matplotlib.figure.Figure at 0x7f9a2b4bec18>"
      ]
     },
     "metadata": {},
     "output_type": "display_data"
    }
   ],
   "source": [
    "name1 = \"rad-xl-corr\"\n",
    "name2 = \"tsi\"\n",
    "\n",
    "ds = load_datasets(name1, name2)\n",
    "\n",
    "data = ds[\"Dataset\"] \n",
    "ind1 = data.Time.dt.hour >= 10\n",
    "ind1 &= data.Time.dt.hour < 22\n",
    "ds[\"Dataset\"] = data[ind1]\n",
    "\n",
    "a = analyze(ds, name1, name2, True)\n",
    "plt.show()"
   ]
  },
  {
   "cell_type": "markdown",
   "metadata": {},
   "source": [
    "### Fazer uma matriz com os máximos de correlação para cada janela"
   ]
  },
  {
   "cell_type": "code",
   "execution_count": 7,
   "metadata": {},
   "outputs": [],
   "source": [
    "def plot_max_corr(name1, name2, plot=True, save=False):\n",
    "    try:\n",
    "            if (\"rad\" in name1) and (\"rad\" in name2):\n",
    "                return None\n",
    "            data_mtr = np.ones((12, 12))\n",
    "            data_mtr = data_mtr * np.nan\n",
    "\n",
    "            proc_count = 0\n",
    "            total_count = np.sum(np.arange(13))\n",
    "\n",
    "            for i in range(12):\n",
    "                for j in range(12  - i):\n",
    "                    print(\"\\r%s/%s\" % (proc_count, total_count), end=\"\" )\n",
    "                    ds = load_datasets(name1, name2)\n",
    "                    data = ds[\"Dataset\"]         \n",
    "                    ind1 = data.Time.dt.hour >= (i + 10)\n",
    "                    ind1 &= data.Time.dt.hour < (j + 11 + i)\n",
    "                    ds[\"Dataset\"] = data[ind1]\n",
    "                    output_file = \"imgs/{}_{}_[{}-{}].png\".format(name1, name2, 10+i, 11+j+i)\n",
    "                    a = analyze(ds, name1, name2, False, output_file)\n",
    "                    data_mtr[i, j] = np.max(a)\n",
    "                    proc_count += 1    \n",
    "\n",
    "\n",
    "            ax1 = plt.subplot()\n",
    "            mp = ax1.matshow(data_mtr)\n",
    "\n",
    "            for (i, j), z in np.ndenumerate(data_mtr):\n",
    "                ax1.text(j, i, '{:0.2f}'.format(z), ha='center', va='center', fontsize=10)\n",
    "\n",
    "            plt.title(\"Correlação máxima entre as amostragens espaço-temporais (%s, %s)\" % (name1, name2))\n",
    "\n",
    "            ax1.set_xticks(np.arange(12))\n",
    "            ax1.set_xticklabels(np.arange(1, 13))\n",
    "            ax1.set_xlabel(\"Duração da janela (h)\")\n",
    "\n",
    "            ax1.set_yticks(np.arange(12))\n",
    "            ax1.set_yticklabels(np.arange(10, 23))\n",
    "            ax1.set_ylabel(\"Horário do ínicio da combinação (UTC)\")\n",
    "            plt.colorbar(mp, label=\"Correlação máxima\")\n",
    "            if save:\n",
    "                plt.savefig(\"imgs/max_{}_{}.png\".format(name1, name2))\n",
    "            if plot:\n",
    "                plt.show()\n",
    "            plt.clf()\n",
    "    except:\n",
    "            return None"
   ]
  },
  {
   "cell_type": "code",
   "execution_count": 8,
   "metadata": {},
   "outputs": [
    {
     "name": "stdout",
     "output_type": "stream",
     "text": [
      "Processando rad-long x rad-long-longwave\n",
      "Processando rad-long x rad-xl\n",
      "Processando rad-long x rad-xl-corr\n",
      "Processando rad-long x tsi\n",
      "77/78Processando rad-long x goes\n",
      "77/78Processando rad-long x modis-aqua\n",
      "0/78"
     ]
    },
    {
     "name": "stderr",
     "output_type": "stream",
     "text": [
      "/usr/local/lib/python3.6/dist-packages/matplotlib/axes/_base.py:2961: UserWarning: Attempting to set identical left==right results\n",
      "in singular transformations; automatically expanding.\n",
      "left=-0.5, right=-0.5\n",
      "  'left=%s, right=%s') % (left, right))\n",
      "/usr/local/lib/python3.6/dist-packages/matplotlib/axes/_base.py:3285: UserWarning: Attempting to set identical bottom==top results\n",
      "in singular transformations; automatically expanding.\n",
      "bottom=-0.5, top=-0.5\n",
      "  'bottom=%s, top=%s') % (bottom, top))\n"
     ]
    },
    {
     "name": "stdout",
     "output_type": "stream",
     "text": [
      "77/78Processando rad-long x modis-terra\n",
      "77/78Processando rad-long-longwave x rad-xl\n",
      "Processando rad-long-longwave x rad-xl-corr\n",
      "Processando rad-long-longwave x tsi\n",
      "77/78Processando rad-long-longwave x goes\n",
      "77/78Processando rad-long-longwave x modis-aqua\n",
      "77/78Processando rad-long-longwave x modis-terra\n",
      "77/78Processando rad-xl x rad-xl-corr\n",
      "Processando rad-xl x tsi\n",
      "77/78Processando rad-xl x goes\n",
      "77/78Processando rad-xl x modis-aqua\n",
      "77/78Processando rad-xl x modis-terra\n",
      "77/78Processando rad-xl-corr x tsi\n",
      "77/78Processando rad-xl-corr x goes\n",
      "77/78Processando rad-xl-corr x modis-aqua\n",
      "77/78Processando rad-xl-corr x modis-terra\n",
      "77/78Processando tsi x goes\n",
      "77/78Processando tsi x modis-aqua\n",
      "77/78Processando tsi x modis-terra\n",
      "77/78Processando goes x modis-aqua\n",
      "77/78Processando goes x modis-terra\n",
      "77/78Processando modis-aqua x modis-terra\n",
      "0/78"
     ]
    },
    {
     "data": {
      "text/plain": [
       "<matplotlib.figure.Figure at 0x7f9a2c2989e8>"
      ]
     },
     "metadata": {},
     "output_type": "display_data"
    }
   ],
   "source": [
    "cf_sources = list(cf_list.keys())\n",
    "qtd_cf_sources = len(cf_sources)\n",
    "\n",
    "for i in range(0, qtd_cf_sources):\n",
    "    cf1 = cf_sources[i]\n",
    "    for j in range(i+1, qtd_cf_sources):\n",
    "        cf2 = cf_sources[j]\n",
    "        print(\"Processando {} x {}\".format(cf1, cf2))\n",
    "        plot_max_corr(cf1, cf2, False, True)\n",
    "    "
   ]
  },
  {
   "cell_type": "code",
   "execution_count": 9,
   "metadata": {},
   "outputs": [
    {
     "ename": "KeyError",
     "evalue": "'Cloud_Fraction'",
     "output_type": "error",
     "traceback": [
      "\u001b[0;31m---------------------------------------------------------------------------\u001b[0m",
      "\u001b[0;31mKeyError\u001b[0m                                  Traceback (most recent call last)",
      "\u001b[0;32m/usr/local/lib/python3.6/dist-packages/pandas/core/indexes/base.py\u001b[0m in \u001b[0;36mget_loc\u001b[0;34m(self, key, method, tolerance)\u001b[0m\n\u001b[1;32m   2524\u001b[0m             \u001b[0;32mtry\u001b[0m\u001b[0;34m:\u001b[0m\u001b[0;34m\u001b[0m\u001b[0m\n\u001b[0;32m-> 2525\u001b[0;31m                 \u001b[0;32mreturn\u001b[0m \u001b[0mself\u001b[0m\u001b[0;34m.\u001b[0m\u001b[0m_engine\u001b[0m\u001b[0;34m.\u001b[0m\u001b[0mget_loc\u001b[0m\u001b[0;34m(\u001b[0m\u001b[0mkey\u001b[0m\u001b[0;34m)\u001b[0m\u001b[0;34m\u001b[0m\u001b[0m\n\u001b[0m\u001b[1;32m   2526\u001b[0m             \u001b[0;32mexcept\u001b[0m \u001b[0mKeyError\u001b[0m\u001b[0;34m:\u001b[0m\u001b[0;34m\u001b[0m\u001b[0m\n",
      "\u001b[0;32mpandas/_libs/index.pyx\u001b[0m in \u001b[0;36mpandas._libs.index.IndexEngine.get_loc\u001b[0;34m()\u001b[0m\n",
      "\u001b[0;32mpandas/_libs/index.pyx\u001b[0m in \u001b[0;36mpandas._libs.index.IndexEngine.get_loc\u001b[0;34m()\u001b[0m\n",
      "\u001b[0;32mpandas/_libs/hashtable_class_helper.pxi\u001b[0m in \u001b[0;36mpandas._libs.hashtable.PyObjectHashTable.get_item\u001b[0;34m()\u001b[0m\n",
      "\u001b[0;32mpandas/_libs/hashtable_class_helper.pxi\u001b[0m in \u001b[0;36mpandas._libs.hashtable.PyObjectHashTable.get_item\u001b[0;34m()\u001b[0m\n",
      "\u001b[0;31mKeyError\u001b[0m: 'Cloud_Fraction'",
      "\nDuring handling of the above exception, another exception occurred:\n",
      "\u001b[0;31mKeyError\u001b[0m                                  Traceback (most recent call last)",
      "\u001b[0;32m<ipython-input-9-919bfc7747f7>\u001b[0m in \u001b[0;36m<module>\u001b[0;34m()\u001b[0m\n\u001b[1;32m      2\u001b[0m \u001b[0mcol2\u001b[0m \u001b[0;34m=\u001b[0m \u001b[0;34m\"TSI_CloudFraction\"\u001b[0m\u001b[0;34m\u001b[0m\u001b[0m\n\u001b[1;32m      3\u001b[0m \u001b[0;34m\u001b[0m\u001b[0m\n\u001b[0;32m----> 4\u001b[0;31m \u001b[0minds\u001b[0m \u001b[0;34m=\u001b[0m \u001b[0mnp\u001b[0m\u001b[0;34m.\u001b[0m\u001b[0misfinite\u001b[0m\u001b[0;34m(\u001b[0m\u001b[0mdata\u001b[0m\u001b[0;34m[\u001b[0m\u001b[0mcol1\u001b[0m\u001b[0;34m]\u001b[0m\u001b[0;34m)\u001b[0m\u001b[0;34m\u001b[0m\u001b[0m\n\u001b[0m\u001b[1;32m      5\u001b[0m \u001b[0minds\u001b[0m \u001b[0;34m&=\u001b[0m \u001b[0mnp\u001b[0m\u001b[0;34m.\u001b[0m\u001b[0misfinite\u001b[0m\u001b[0;34m(\u001b[0m\u001b[0mdata\u001b[0m\u001b[0;34m[\u001b[0m\u001b[0mcol2\u001b[0m\u001b[0;34m]\u001b[0m\u001b[0;34m)\u001b[0m\u001b[0;34m\u001b[0m\u001b[0m\n\u001b[1;32m      6\u001b[0m \u001b[0;31m#inds &= data[col1] < 1\u001b[0m\u001b[0;34m\u001b[0m\u001b[0;34m\u001b[0m\u001b[0m\n",
      "\u001b[0;32m/usr/local/lib/python3.6/dist-packages/pandas/core/frame.py\u001b[0m in \u001b[0;36m__getitem__\u001b[0;34m(self, key)\u001b[0m\n\u001b[1;32m   2137\u001b[0m             \u001b[0;32mreturn\u001b[0m \u001b[0mself\u001b[0m\u001b[0;34m.\u001b[0m\u001b[0m_getitem_multilevel\u001b[0m\u001b[0;34m(\u001b[0m\u001b[0mkey\u001b[0m\u001b[0;34m)\u001b[0m\u001b[0;34m\u001b[0m\u001b[0m\n\u001b[1;32m   2138\u001b[0m         \u001b[0;32melse\u001b[0m\u001b[0;34m:\u001b[0m\u001b[0;34m\u001b[0m\u001b[0m\n\u001b[0;32m-> 2139\u001b[0;31m             \u001b[0;32mreturn\u001b[0m \u001b[0mself\u001b[0m\u001b[0;34m.\u001b[0m\u001b[0m_getitem_column\u001b[0m\u001b[0;34m(\u001b[0m\u001b[0mkey\u001b[0m\u001b[0;34m)\u001b[0m\u001b[0;34m\u001b[0m\u001b[0m\n\u001b[0m\u001b[1;32m   2140\u001b[0m \u001b[0;34m\u001b[0m\u001b[0m\n\u001b[1;32m   2141\u001b[0m     \u001b[0;32mdef\u001b[0m \u001b[0m_getitem_column\u001b[0m\u001b[0;34m(\u001b[0m\u001b[0mself\u001b[0m\u001b[0;34m,\u001b[0m \u001b[0mkey\u001b[0m\u001b[0;34m)\u001b[0m\u001b[0;34m:\u001b[0m\u001b[0;34m\u001b[0m\u001b[0m\n",
      "\u001b[0;32m/usr/local/lib/python3.6/dist-packages/pandas/core/frame.py\u001b[0m in \u001b[0;36m_getitem_column\u001b[0;34m(self, key)\u001b[0m\n\u001b[1;32m   2144\u001b[0m         \u001b[0;31m# get column\u001b[0m\u001b[0;34m\u001b[0m\u001b[0;34m\u001b[0m\u001b[0m\n\u001b[1;32m   2145\u001b[0m         \u001b[0;32mif\u001b[0m \u001b[0mself\u001b[0m\u001b[0;34m.\u001b[0m\u001b[0mcolumns\u001b[0m\u001b[0;34m.\u001b[0m\u001b[0mis_unique\u001b[0m\u001b[0;34m:\u001b[0m\u001b[0;34m\u001b[0m\u001b[0m\n\u001b[0;32m-> 2146\u001b[0;31m             \u001b[0;32mreturn\u001b[0m \u001b[0mself\u001b[0m\u001b[0;34m.\u001b[0m\u001b[0m_get_item_cache\u001b[0m\u001b[0;34m(\u001b[0m\u001b[0mkey\u001b[0m\u001b[0;34m)\u001b[0m\u001b[0;34m\u001b[0m\u001b[0m\n\u001b[0m\u001b[1;32m   2147\u001b[0m \u001b[0;34m\u001b[0m\u001b[0m\n\u001b[1;32m   2148\u001b[0m         \u001b[0;31m# duplicate columns & possible reduce dimensionality\u001b[0m\u001b[0;34m\u001b[0m\u001b[0;34m\u001b[0m\u001b[0m\n",
      "\u001b[0;32m/usr/local/lib/python3.6/dist-packages/pandas/core/generic.py\u001b[0m in \u001b[0;36m_get_item_cache\u001b[0;34m(self, item)\u001b[0m\n\u001b[1;32m   1840\u001b[0m         \u001b[0mres\u001b[0m \u001b[0;34m=\u001b[0m \u001b[0mcache\u001b[0m\u001b[0;34m.\u001b[0m\u001b[0mget\u001b[0m\u001b[0;34m(\u001b[0m\u001b[0mitem\u001b[0m\u001b[0;34m)\u001b[0m\u001b[0;34m\u001b[0m\u001b[0m\n\u001b[1;32m   1841\u001b[0m         \u001b[0;32mif\u001b[0m \u001b[0mres\u001b[0m \u001b[0;32mis\u001b[0m \u001b[0;32mNone\u001b[0m\u001b[0;34m:\u001b[0m\u001b[0;34m\u001b[0m\u001b[0m\n\u001b[0;32m-> 1842\u001b[0;31m             \u001b[0mvalues\u001b[0m \u001b[0;34m=\u001b[0m \u001b[0mself\u001b[0m\u001b[0;34m.\u001b[0m\u001b[0m_data\u001b[0m\u001b[0;34m.\u001b[0m\u001b[0mget\u001b[0m\u001b[0;34m(\u001b[0m\u001b[0mitem\u001b[0m\u001b[0;34m)\u001b[0m\u001b[0;34m\u001b[0m\u001b[0m\n\u001b[0m\u001b[1;32m   1843\u001b[0m             \u001b[0mres\u001b[0m \u001b[0;34m=\u001b[0m \u001b[0mself\u001b[0m\u001b[0;34m.\u001b[0m\u001b[0m_box_item_values\u001b[0m\u001b[0;34m(\u001b[0m\u001b[0mitem\u001b[0m\u001b[0;34m,\u001b[0m \u001b[0mvalues\u001b[0m\u001b[0;34m)\u001b[0m\u001b[0;34m\u001b[0m\u001b[0m\n\u001b[1;32m   1844\u001b[0m             \u001b[0mcache\u001b[0m\u001b[0;34m[\u001b[0m\u001b[0mitem\u001b[0m\u001b[0;34m]\u001b[0m \u001b[0;34m=\u001b[0m \u001b[0mres\u001b[0m\u001b[0;34m\u001b[0m\u001b[0m\n",
      "\u001b[0;32m/usr/local/lib/python3.6/dist-packages/pandas/core/internals.py\u001b[0m in \u001b[0;36mget\u001b[0;34m(self, item, fastpath)\u001b[0m\n\u001b[1;32m   3841\u001b[0m \u001b[0;34m\u001b[0m\u001b[0m\n\u001b[1;32m   3842\u001b[0m             \u001b[0;32mif\u001b[0m \u001b[0;32mnot\u001b[0m \u001b[0misna\u001b[0m\u001b[0;34m(\u001b[0m\u001b[0mitem\u001b[0m\u001b[0;34m)\u001b[0m\u001b[0;34m:\u001b[0m\u001b[0;34m\u001b[0m\u001b[0m\n\u001b[0;32m-> 3843\u001b[0;31m                 \u001b[0mloc\u001b[0m \u001b[0;34m=\u001b[0m \u001b[0mself\u001b[0m\u001b[0;34m.\u001b[0m\u001b[0mitems\u001b[0m\u001b[0;34m.\u001b[0m\u001b[0mget_loc\u001b[0m\u001b[0;34m(\u001b[0m\u001b[0mitem\u001b[0m\u001b[0;34m)\u001b[0m\u001b[0;34m\u001b[0m\u001b[0m\n\u001b[0m\u001b[1;32m   3844\u001b[0m             \u001b[0;32melse\u001b[0m\u001b[0;34m:\u001b[0m\u001b[0;34m\u001b[0m\u001b[0m\n\u001b[1;32m   3845\u001b[0m                 \u001b[0mindexer\u001b[0m \u001b[0;34m=\u001b[0m \u001b[0mnp\u001b[0m\u001b[0;34m.\u001b[0m\u001b[0marange\u001b[0m\u001b[0;34m(\u001b[0m\u001b[0mlen\u001b[0m\u001b[0;34m(\u001b[0m\u001b[0mself\u001b[0m\u001b[0;34m.\u001b[0m\u001b[0mitems\u001b[0m\u001b[0;34m)\u001b[0m\u001b[0;34m)\u001b[0m\u001b[0;34m[\u001b[0m\u001b[0misna\u001b[0m\u001b[0;34m(\u001b[0m\u001b[0mself\u001b[0m\u001b[0;34m.\u001b[0m\u001b[0mitems\u001b[0m\u001b[0;34m)\u001b[0m\u001b[0;34m]\u001b[0m\u001b[0;34m\u001b[0m\u001b[0m\n",
      "\u001b[0;32m/usr/local/lib/python3.6/dist-packages/pandas/core/indexes/base.py\u001b[0m in \u001b[0;36mget_loc\u001b[0;34m(self, key, method, tolerance)\u001b[0m\n\u001b[1;32m   2525\u001b[0m                 \u001b[0;32mreturn\u001b[0m \u001b[0mself\u001b[0m\u001b[0;34m.\u001b[0m\u001b[0m_engine\u001b[0m\u001b[0;34m.\u001b[0m\u001b[0mget_loc\u001b[0m\u001b[0;34m(\u001b[0m\u001b[0mkey\u001b[0m\u001b[0;34m)\u001b[0m\u001b[0;34m\u001b[0m\u001b[0m\n\u001b[1;32m   2526\u001b[0m             \u001b[0;32mexcept\u001b[0m \u001b[0mKeyError\u001b[0m\u001b[0;34m:\u001b[0m\u001b[0;34m\u001b[0m\u001b[0m\n\u001b[0;32m-> 2527\u001b[0;31m                 \u001b[0;32mreturn\u001b[0m \u001b[0mself\u001b[0m\u001b[0;34m.\u001b[0m\u001b[0m_engine\u001b[0m\u001b[0;34m.\u001b[0m\u001b[0mget_loc\u001b[0m\u001b[0;34m(\u001b[0m\u001b[0mself\u001b[0m\u001b[0;34m.\u001b[0m\u001b[0m_maybe_cast_indexer\u001b[0m\u001b[0;34m(\u001b[0m\u001b[0mkey\u001b[0m\u001b[0;34m)\u001b[0m\u001b[0;34m)\u001b[0m\u001b[0;34m\u001b[0m\u001b[0m\n\u001b[0m\u001b[1;32m   2528\u001b[0m \u001b[0;34m\u001b[0m\u001b[0m\n\u001b[1;32m   2529\u001b[0m         \u001b[0mindexer\u001b[0m \u001b[0;34m=\u001b[0m \u001b[0mself\u001b[0m\u001b[0;34m.\u001b[0m\u001b[0mget_indexer\u001b[0m\u001b[0;34m(\u001b[0m\u001b[0;34m[\u001b[0m\u001b[0mkey\u001b[0m\u001b[0;34m]\u001b[0m\u001b[0;34m,\u001b[0m \u001b[0mmethod\u001b[0m\u001b[0;34m=\u001b[0m\u001b[0mmethod\u001b[0m\u001b[0;34m,\u001b[0m \u001b[0mtolerance\u001b[0m\u001b[0;34m=\u001b[0m\u001b[0mtolerance\u001b[0m\u001b[0;34m)\u001b[0m\u001b[0;34m\u001b[0m\u001b[0m\n",
      "\u001b[0;32mpandas/_libs/index.pyx\u001b[0m in \u001b[0;36mpandas._libs.index.IndexEngine.get_loc\u001b[0;34m()\u001b[0m\n",
      "\u001b[0;32mpandas/_libs/index.pyx\u001b[0m in \u001b[0;36mpandas._libs.index.IndexEngine.get_loc\u001b[0;34m()\u001b[0m\n",
      "\u001b[0;32mpandas/_libs/hashtable_class_helper.pxi\u001b[0m in \u001b[0;36mpandas._libs.hashtable.PyObjectHashTable.get_item\u001b[0;34m()\u001b[0m\n",
      "\u001b[0;32mpandas/_libs/hashtable_class_helper.pxi\u001b[0m in \u001b[0;36mpandas._libs.hashtable.PyObjectHashTable.get_item\u001b[0;34m()\u001b[0m\n",
      "\u001b[0;31mKeyError\u001b[0m: 'Cloud_Fraction'"
     ]
    }
   ],
   "source": [
    "col1 = \"Cloud_Fraction\"\n",
    "col2 = \"TSI_CloudFraction\"\n",
    "\n",
    "inds = np.isfinite(data[col1])\n",
    "inds &= np.isfinite(data[col2])\n",
    "#inds &= data[col1] < 1\n",
    "#inds &= data[col2] < 1\n",
    "d = data[inds]\n",
    "\n",
    "f = lambda x, a, b, c, d: a * x ** 2 + b * x + c + d * x ** 3\n",
    "\n",
    "#out = scipy.optimize.curve_fit(f, d[col1], d[col2], p0=[0, 0, 0, 0])\n",
    "\n",
    "#x = np.linspace(0, 1, 50)\n",
    "#y = f(x, *out[0])\n",
    "#plt.errorbar(x, y)\n",
    "plt.hist2d(d[col1], d[col2], bins=100, range=((0, 0.9), (0, 0.9)))\n",
    "plt.colorbar()\n",
    "\n",
    "plt.show()"
   ]
  },
  {
   "cell_type": "code",
   "execution_count": 70,
   "metadata": {},
   "outputs": [
    {
     "data": {
      "text/plain": [
       "array([-0.58218947,  1.46099988, -0.00647603])"
      ]
     },
     "execution_count": 70,
     "metadata": {},
     "output_type": "execute_result"
    }
   ],
   "source": [
    "out[0]"
   ]
  },
  {
   "cell_type": "code",
   "execution_count": null,
   "metadata": {},
   "outputs": [],
   "source": []
  }
 ],
 "metadata": {
  "kernelspec": {
   "display_name": "Python 3",
   "language": "python",
   "name": "python3"
  },
  "language_info": {
   "codemirror_mode": {
    "name": "ipython",
    "version": 3
   },
   "file_extension": ".py",
   "mimetype": "text/x-python",
   "name": "python",
   "nbconvert_exporter": "python",
   "pygments_lexer": "ipython3",
   "version": "3.6.3"
  }
 },
 "nbformat": 4,
 "nbformat_minor": 2
}
