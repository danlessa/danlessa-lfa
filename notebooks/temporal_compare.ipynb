{
 "cells": [
  {
   "cell_type": "code",
   "execution_count": 1,
   "metadata": {
    "collapsed": true
   },
   "outputs": [],
   "source": [
    "import os\n",
    "import pandas as pd\n",
    "import functools\n",
    "import operator\n",
    "import numpy as np"
   ]
  },
  {
   "cell_type": "code",
   "execution_count": 2,
   "metadata": {},
   "outputs": [],
   "source": [
    "### Constants\n",
    "\n",
    "proc_path = os.path.expanduser(\"~/dados-ic/output/\")\n",
    "default_time_deltas = [60 * 5, 60 * 10, 60 * 15, 60 * 30, 60 * 60, 60 * 120, 60 * 180, 60 * 240, 60 * 300]\n",
    "default_path_dict = {\"tsi\": os.path.join(proc_path, \"tsi.csv\"),\n",
    "                     \"rad\": os.path.join(proc_path, \"rad.csv\"),\n",
    "                     \"goes\": os.path.join(proc_path, \"goes.csv\"),\n",
    "                     \"mod\": os.path.join(proc_path, \"modis_terra.csv\"),\n",
    "                     \"myd\": os.path.join(proc_path, \"modis_aqua.csv\")}\n",
    "\n",
    "default_output_dict = {\"tsi\": os.path.join(proc_path, \"tsi-centered.csv\"),\n",
    "                     \"rad\": os.path.join(proc_path, \"rad-centered.csv\"),\n",
    "                     \"goes\": os.path.join(proc_path, \"goes-centered.csv\")}"
   ]
  },
  {
   "cell_type": "code",
   "execution_count": 3,
   "metadata": {},
   "outputs": [],
   "source": [
    "def center_data(data1, data2, time_deltas=default_time_deltas):\n",
    "    \"\"\"\n",
    "    Averages data2 content near data1.Time points using\n",
    "    given time_delta in seconds. The output Time column\n",
    "    are given from data1.Time points and the N\n",
    "    column are the size of data2 points used for\n",
    "    the output row.\n",
    "    \n",
    "    Keyword Arguments:\n",
    "    data1 -- Reference dataset (eg. MODIS data)\n",
    "    data2 -- Dataset to average (eg. TSI data)\n",
    "    time_delta -- Seconds apart from data1 points to average    \n",
    "    \"\"\"\n",
    "\n",
    "    time_deltas = sorted(time_deltas, reverse=True)\n",
    "    data3 = pd.DataFrame()\n",
    "    data3_times = []\n",
    "    data3_N = []\n",
    "    data3_time_delta = []\n",
    "    \n",
    "    for item_iter in data1.iterrows():\n",
    "        filtered_data2 = data2.copy()\n",
    "        \n",
    "        for time_delta in time_deltas:\n",
    "            item = item_iter[1]\n",
    "            item_time = item.Time\n",
    "            min_time = item_time - pd.Timedelta(seconds=time_delta)\n",
    "            max_time = item_time + pd.Timedelta(seconds=time_delta)\n",
    "\n",
    "            select_filter = filtered_data2.Time > min_time\n",
    "            select_filter &= filtered_data2.Time < max_time\n",
    "\n",
    "            filtered_data2 = filtered_data2[select_filter]\n",
    "            N = len(filtered_data2)\n",
    "            avg = filtered_data2.mean()\n",
    "\n",
    "            data3_times.append(item.Time)\n",
    "            data3_N.append(N)\n",
    "            data3_time_delta.append(time_delta)\n",
    "            data3 = data3.append(avg, ignore_index=True)\n",
    "\n",
    "    data3[\"Timedelta\"] = data3_time_delta\n",
    "    data3[\"Time\"] = data3_times\n",
    "    data3[\"N\"] = data3_N\n",
    "    \n",
    "    return data3"
   ]
  },
  {
   "cell_type": "code",
   "execution_count": 4,
   "metadata": {},
   "outputs": [],
   "source": [
    "def goes_center_data(data1, goes_data, time_deltas=default_time_deltas):    \n",
    "    \"\"\"\n",
    "    Similiar to center_data, but this function takes into account\n",
    "    that GOES have spatial deltas.\n",
    "    \"\"\"\n",
    "    delta_list = np.unique(goes_data.Delta)    \n",
    "    output = []    \n",
    "    for delta in delta_list:\n",
    "        filter_indices = (goes_data.Delta == delta)\n",
    "        data2 = goes_data[filter_indices]\n",
    "        data3 = center_data(data1, data2, time_deltas)\n",
    "        output.append(data3)\n",
    "    \n",
    "    dataframe = pd.concat(output)\n",
    "    \n",
    "    return dataframe.reset_index()"
   ]
  },
  {
   "cell_type": "code",
   "execution_count": 5,
   "metadata": {},
   "outputs": [],
   "source": [
    "def process_all(modis_data, path_dict=default_path_dict,\n",
    "                output_dict=default_output_dict,\n",
    "                time_deltas=default_time_deltas):\n",
    "    \"\"\"\n",
    "    \n",
    "    \"\"\"\n",
    "    data1 = modis_data\n",
    "    \n",
    "    deltas = np.unique(data1.Delta)\n",
    "    gambi_delta = deltas[np.argmax(deltas)]\n",
    "    data1 = data1[data1.Delta == gambi_delta]\n",
    "\n",
    "    for k in output_dict.keys():\n",
    "        print(\"Processing %s\" % (k))\n",
    "        data2 = pd.read_csv(path_dict[k], na_values=[\"--\"])\n",
    "        data2.Time = pd.to_datetime(data2.Time)\n",
    "        if k == \"goes\":\n",
    "            data3 = goes_center_data(data1, data2, time_deltas)\n",
    "        else:\n",
    "            data3 = center_data(data1, data2)\n",
    "        \n",
    "        data3 = data3[data3.N > 0]\n",
    "        data3 = data3[pd.notnull(data3.Time)]\n",
    "        data3.to_csv(output_dict[k], index=False)           \n",
    "    "
   ]
  },
  {
   "cell_type": "code",
   "execution_count": null,
   "metadata": {
    "collapsed": true
   },
   "outputs": [],
   "source": [
    "def process_all_lazy():\n",
    "    \n",
    "    \n",
    "    print(\"Centering on GOES Data\")\n",
    "    modis_path = default_path_dict[\"goes\"]\n",
    "    modis_data = pd.read_csv(modis_path, na_values=[\"--\"])\n",
    "    modis_data.Time = pd.to_datetime(modis_data.Time)\n",
    "    output_dict = default_output_dict.copy()\n",
    "    del output_dict[\"goes\"]\n",
    "    \n",
    "    for k in output_dict.keys():\n",
    "        output_dict[k] = output_dict[k].replace(\"centered\", \"centered-goes\")\n",
    "    process_all(modis_data, output_dict=output_dict)\n",
    "    \n",
    "    \n",
    "    print(\"Centering on MODIS Terra data\")\n",
    "    modis_path = default_path_dict[\"mod\"]\n",
    "    modis_data = pd.read_csv(modis_path, na_values=[\"--\"])\n",
    "    modis_data.Time = pd.to_datetime(modis_data.Time)\n",
    "    output_dict = default_output_dict.copy()\n",
    "    \n",
    "    for k in output_dict.keys():\n",
    "        output_dict[k] = output_dict[k].replace(\"centered\", \"centered-mod\")\n",
    "    process_all(modis_data, output_dict=output_dict)\n",
    "    \n",
    "        \n",
    "    print(\"Centering on MODIS Aqua Data\")\n",
    "    modis_path = default_path_dict[\"myd\"]\n",
    "    modis_data = pd.read_csv(modis_path, na_values=[\"--\"])\n",
    "    modis_data.Time = pd.to_datetime(modis_data.Time)\n",
    "    output_dict = default_output_dict.copy()\n",
    "    \n",
    "    for k in output_dict.keys():\n",
    "        output_dict[k] = output_dict[k].replace(\"centered\", \"centered-myd\")\n",
    "    process_all(modis_data, output_dict=output_dict)"
   ]
  },
  {
   "cell_type": "code",
   "execution_count": null,
   "metadata": {},
   "outputs": [
    {
     "name": "stdout",
     "output_type": "stream",
     "text": [
      "Centering on GOES Data\n",
      "Processing rad\n"
     ]
    }
   ],
   "source": [
    "process_all_lazy()"
   ]
  },
  {
   "cell_type": "code",
   "execution_count": null,
   "metadata": {},
   "outputs": [],
   "source": [
    "####### Average modis times\n",
    "def average_modis_path(modis_path, minutes=5):\n",
    "    #modis_path = default_path_dict[\"mod\"]\n",
    "    modis_data = pd.read_csv(modis_path, na_values=[\"--\"])\n",
    "    modis_data.Time = pd.to_datetime(modis_data.Time)\n",
    "    data = modis_data\n",
    "\n",
    "\n",
    "    for it in data.iterrows():\n",
    "        item = it[1]\n",
    "        item_time = item.Time\n",
    "        min_time = item_time - pd.Timedelta(minutes=minutes)\n",
    "        max_time = item_time + pd.Timedelta(minutes=minutes)\n",
    "\n",
    "        select_filter = data.Time > min_time\n",
    "        select_filter &= data.Time < max_time\n",
    "\n",
    "        avg_time = np.mean(data[select_filter].Time.values.astype(np.int64))\n",
    "        siz = len(data[select_filter])\n",
    "        if siz > 1:\n",
    "            data.loc[select_filter, \"Time\"] = avg_time\n",
    "            print(\"\\r%s\" % (len(data) - it[0]), end=\"\")\n",
    "\n",
    "\n",
    "    data = data[pd.notnull(data.Time)]\n",
    "    data.to_csv(modis_path, index=False)\n",
    "    return data\n",
    "    "
   ]
  },
  {
   "cell_type": "code",
   "execution_count": null,
   "metadata": {},
   "outputs": [],
   "source": [
    "#average_modis_path(default_path_dict[\"mod\"])\n",
    "#average_modis_path(default_path_dict[\"myd\"])"
   ]
  },
  {
   "cell_type": "code",
   "execution_count": null,
   "metadata": {},
   "outputs": [],
   "source": [
    "process_all_lazy()"
   ]
  },
  {
   "cell_type": "code",
   "execution_count": null,
   "metadata": {
    "collapsed": true
   },
   "outputs": [],
   "source": []
  }
 ],
 "metadata": {
  "kernelspec": {
   "display_name": "Python 3",
   "language": "python",
   "name": "python3"
  },
  "language_info": {
   "codemirror_mode": {
    "name": "ipython",
    "version": 3
   },
   "file_extension": ".py",
   "mimetype": "text/x-python",
   "name": "python",
   "nbconvert_exporter": "python",
   "pygments_lexer": "ipython3",
   "version": "3.5.3"
  }
 },
 "nbformat": 4,
 "nbformat_minor": 2
}
