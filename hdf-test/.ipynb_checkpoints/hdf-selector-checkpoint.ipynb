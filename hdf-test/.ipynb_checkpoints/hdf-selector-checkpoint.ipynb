{
 "cells": [
  {
   "cell_type": "code",
   "execution_count": 1,
   "metadata": {
    "collapsed": true
   },
   "outputs": [],
   "source": [
    "import numpy as np\n",
    "from pyhdf.SD import *\n",
    "import time\n",
    "import os"
   ]
  },
  {
   "cell_type": "code",
   "execution_count": 2,
   "metadata": {
    "collapsed": false
   },
   "outputs": [],
   "source": [
    "output_path = \"modis.csv\"\n",
    "lat_mara = -(3 + 12/60 + 46.70/3600)\n",
    "lon_mara = -(60 + 35/60 + 53/3600)\n",
    "initial_time = time.mktime(time.strptime(\"00:00 01/01/1993\", \"%H:%M %d/%m/%Y\"))"
   ]
  },
  {
   "cell_type": "code",
   "execution_count": 3,
   "metadata": {
    "collapsed": true
   },
   "outputs": [],
   "source": [
    "def distance(lat, lon):\n",
    "    return np.sqrt(np.power(lat-lat_mara, 2)  + np.power(lon - lon_mara, 2))"
   ]
  },
  {
   "cell_type": "code",
   "execution_count": 4,
   "metadata": {
    "collapsed": false
   },
   "outputs": [],
   "source": [
    "files = os.listdir()\n",
    "files = [file for file in files if file[-4:] == \".hdf\"]\n",
    "with open(output_path, \"w\") as out:\n",
    "    out.write(\"CloudFraction,DegreeDistance,Latitude,Longitude,ScanTime\\n\")\n",
    "    for file in files:\n",
    "        sd = SD(file)\n",
    "        lat = np.array(sd.select(\"Latitude\")[:])\n",
    "        lon = np.array(sd.select(\"Longitude\")[:])\n",
    "        cf = np.array(sd.select(\"Cloud_Fraction\")[:])\n",
    "        t = np.array(sd.select(\"Scan_Start_Time\")[:]) + initial_time\n",
    "        dist = distance(lat, lon)\n",
    "        ind = np.where(dist == dist.min())\n",
    "        row = (cf[ind], dist[ind], lat[ind], lon[ind], t[ind])\n",
    "        out.write(\"%f,%f,%f,%f,%d\\n\" % row)"
   ]
  },
  {
   "cell_type": "code",
   "execution_count": null,
   "metadata": {
    "collapsed": true
   },
   "outputs": [],
   "source": []
  }
 ],
 "metadata": {
  "kernelspec": {
   "display_name": "Python 3",
   "language": "python",
   "name": "python3"
  },
  "language_info": {
   "codemirror_mode": {
    "name": "ipython",
    "version": 3
   },
   "file_extension": ".py",
   "mimetype": "text/x-python",
   "name": "python",
   "nbconvert_exporter": "python",
   "pygments_lexer": "ipython3",
   "version": "3.5.2"
  }
 },
 "nbformat": 4,
 "nbformat_minor": 0
}
