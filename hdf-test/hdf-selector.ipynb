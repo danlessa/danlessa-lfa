{
 "cells": [
  {
   "cell_type": "code",
   "execution_count": 112,
   "metadata": {
    "collapsed": true
   },
   "outputs": [],
   "source": [
    "import numpy as np\n",
    "from pyhdf.SD import *\n",
    "import time\n",
    "import os"
   ]
  },
  {
   "cell_type": "code",
   "execution_count": 113,
   "metadata": {
    "collapsed": false
   },
   "outputs": [],
   "source": [
    "output_path = \"modis.csv\"\n",
    "lat_mara = -(3 + 12/60 + 46.70/3600)\n",
    "lon_mara = -(60 + 35/60 + 53/3600)\n",
    "initial_time = time.mktime(time.strptime(\"00:00 01/01/1993\", \"%H:%M %d/%m/%Y\"))"
   ]
  },
  {
   "cell_type": "code",
   "execution_count": 114,
   "metadata": {
    "collapsed": false
   },
   "outputs": [],
   "source": [
    "def distance(lat, lon):\n",
    "    return np.sqrt(np.power(lat-lat_mara, 2)  + np.power(lon - lon_mara, 2))\n",
    "\n",
    "\n",
    "\n",
    "def work(file):\n",
    "    sd = SD(file)\n",
    "    lat = np.array(sd.select(\"Latitude\")[:])\n",
    "    lon = np.array(sd.select(\"Longitude\")[:])\n",
    "    cf = np.array(sd.select(\"Cloud_Fraction\")[:])\n",
    "    t = np.array(sd.select(\"Scan_Start_Time\")[:]) + initial_time\n",
    "    dist = distance(lat, lon)\n",
    "    ind = np.where(dist == dist.min())\n",
    "    x = ind[0]\n",
    "    y = ind[1]\n",
    "    \n",
    "    lat = lat[x-1:x+2, y-1:y+2]\n",
    "    lon = lon[x-1:x+2, y-1:y+2]\n",
    "    cf = cf[x-1:x+2, y-1:y+2]\n",
    "    t = t[x-1:x+2, y-1:y+2]\n",
    "    dist = dist[x-1:x+2, y-1:y+2]\n",
    "\n",
    "    d = dist / np.sum(dist)\n",
    "    \n",
    "    def weighted_average(x):\n",
    "        return np.sum(x * d)\n",
    "    \n",
    "    total_dist = np.sum(dist)\n",
    "    cf = weighted_average(cf)\n",
    "    lat = weighted_average(lat)\n",
    "    lon = weighted_average(lon)\n",
    "    t = weighted_average(t)\n",
    "    \n",
    "    return (cf, lat, lon, t)\n",
    "    "
   ]
  },
  {
   "cell_type": "code",
   "execution_count": 115,
   "metadata": {
    "collapsed": false
   },
   "outputs": [
    {
     "name": "stderr",
     "output_type": "stream",
     "text": [
      "/usr/local/lib/python3.5/dist-packages/ipykernel/__main__.py:17: VisibleDeprecationWarning: converting an array with ndim > 0 to an index will result in an error in the future\n",
      "/usr/local/lib/python3.5/dist-packages/ipykernel/__main__.py:18: VisibleDeprecationWarning: converting an array with ndim > 0 to an index will result in an error in the future\n",
      "/usr/local/lib/python3.5/dist-packages/ipykernel/__main__.py:19: VisibleDeprecationWarning: converting an array with ndim > 0 to an index will result in an error in the future\n",
      "/usr/local/lib/python3.5/dist-packages/ipykernel/__main__.py:20: VisibleDeprecationWarning: converting an array with ndim > 0 to an index will result in an error in the future\n",
      "/usr/local/lib/python3.5/dist-packages/ipykernel/__main__.py:21: VisibleDeprecationWarning: converting an array with ndim > 0 to an index will result in an error in the future\n"
     ]
    }
   ],
   "source": [
    "files = os.listdir()\n",
    "files = [file for file in files if file[-4:] == \".hdf\"]\n",
    "with open(output_path, \"w\") as out:\n",
    "    out.write(\"CloudFraction,Latitude,Longitude,ScanTime\\n\")\n",
    "    for file in files:\n",
    "        row = work(file)\n",
    "        out.write(\"%f,%f,%f,%d\\n\" % row)\n",
    "         "
   ]
  },
  {
   "cell_type": "code",
   "execution_count": 123,
   "metadata": {
    "collapsed": false
   },
   "outputs": [
    {
     "name": "stdout",
     "output_type": "stream",
     "text": [
      "MYD06_L2.A2013320.0505.006.2014268163807.hdf\t(100.00001, -3.2320578, -60.581394, 1384585666.2064223)\n"
     ]
    }
   ],
   "source": []
  },
  {
   "cell_type": "code",
   "execution_count": 106,
   "metadata": {
    "collapsed": false
   },
   "outputs": [
    {
     "name": "stderr",
     "output_type": "stream",
     "text": [
      "/usr/local/lib/python3.5/dist-packages/ipykernel/__main__.py:11: VisibleDeprecationWarning: converting an array with ndim > 0 to an index will result in an error in the future\n",
      "/usr/local/lib/python3.5/dist-packages/ipykernel/__main__.py:12: VisibleDeprecationWarning: converting an array with ndim > 0 to an index will result in an error in the future\n",
      "/usr/local/lib/python3.5/dist-packages/ipykernel/__main__.py:13: VisibleDeprecationWarning: converting an array with ndim > 0 to an index will result in an error in the future\n",
      "/usr/local/lib/python3.5/dist-packages/ipykernel/__main__.py:14: VisibleDeprecationWarning: converting an array with ndim > 0 to an index will result in an error in the future\n",
      "/usr/local/lib/python3.5/dist-packages/ipykernel/__main__.py:15: VisibleDeprecationWarning: converting an array with ndim > 0 to an index will result in an error in the future\n"
     ]
    }
   ],
   "source": [
    "    sd = SD(file)\n",
    "    lat = np.array(sd.select(\"Latitude\")[:])\n",
    "    lon = np.array(sd.select(\"Longitude\")[:])\n",
    "    cf = np.array(sd.select(\"Cloud_Fraction\")[:])\n",
    "    t = np.array(sd.select(\"Scan_Start_Time\")[:]) + initial_time\n",
    "    dist = distance(lat, lon)\n",
    "    ind = np.where(dist == dist.min())\n",
    "    x = ind[0]\n",
    "    y = ind[1]\n",
    "    \n",
    "    lat = lat[x-1:x+2, y-1:y+2]\n",
    "    lon = lon[x-1:x+2, y-1:y+2]\n",
    "    cf = cf[x-1:x+2, y-1:y+2]\n",
    "    t = t[x-1:x+2, y-1:y+2]\n",
    "    dist = dist[x-1:x+2, y-1:y+2]"
   ]
  },
  {
   "cell_type": "code",
   "execution_count": 107,
   "metadata": {
    "collapsed": false
   },
   "outputs": [
    {
     "data": {
      "text/plain": [
       "array([[-60.7010231 , -60.57870483, -60.45941544],\n",
       "       [-60.7088623 , -60.58679199, -60.46759415],\n",
       "       [-60.72027206, -60.59771347, -60.47826385]], dtype=float32)"
      ]
     },
     "execution_count": 107,
     "metadata": {},
     "output_type": "execute_result"
    }
   ],
   "source": [
    "lon"
   ]
  },
  {
   "cell_type": "code",
   "execution_count": 108,
   "metadata": {
    "collapsed": false
   },
   "outputs": [
    {
     "data": {
      "text/plain": [
       "array([[ 0.1258999 ,  0.03386318,  0.15741858],\n",
       "       [ 0.12840286,  0.01342481,  0.14905417],\n",
       "       [ 0.14914608,  0.07601107,  0.16677941]], dtype=float32)"
      ]
     },
     "execution_count": 108,
     "metadata": {},
     "output_type": "execute_result"
    }
   ],
   "source": [
    "d"
   ]
  },
  {
   "cell_type": "code",
   "execution_count": null,
   "metadata": {
    "collapsed": true
   },
   "outputs": [],
   "source": []
  }
 ],
 "metadata": {
  "kernelspec": {
   "display_name": "Python 3",
   "language": "python",
   "name": "python3"
  },
  "language_info": {
   "codemirror_mode": {
    "name": "ipython",
    "version": 3
   },
   "file_extension": ".py",
   "mimetype": "text/x-python",
   "name": "python",
   "nbconvert_exporter": "python",
   "pygments_lexer": "ipython3",
   "version": "3.5.2+"
  }
 },
 "nbformat": 4,
 "nbformat_minor": 0
}
