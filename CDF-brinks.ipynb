{
 "cells": [
  {
   "cell_type": "code",
   "execution_count": 1,
   "metadata": {
    "collapsed": true
   },
   "outputs": [],
   "source": [
    "#brincaeiras com o cdf"
   ]
  },
  {
   "cell_type": "code",
   "execution_count": 4,
   "metadata": {
    "collapsed": false
   },
   "outputs": [],
   "source": [
    "import netCDF4 as nc"
   ]
  },
  {
   "cell_type": "code",
   "execution_count": 5,
   "metadata": {
    "collapsed": true
   },
   "outputs": [],
   "source": [
    "path = \"dados/maotsi/maotsiskycoverM1.b1.20131223.164530.cdf\""
   ]
  },
  {
   "cell_type": "code",
   "execution_count": 6,
   "metadata": {
    "collapsed": true
   },
   "outputs": [],
   "source": [
    "dataset = nc.Dataset(path, \"r\")"
   ]
  },
  {
   "cell_type": "code",
   "execution_count": 38,
   "metadata": {
    "collapsed": false
   },
   "outputs": [
    {
     "data": {
      "text/plain": [
       "array([ 0.,  0.,  0.,  0.,  0.,  0.,  0.,  0.,  0.,  0.,  0.,  0.,  0.,\n",
       "        0.,  0.,  0.,  0.,  0.,  0.,  0.,  0.,  0.,  0.,  0.,  0.,  0.,\n",
       "        0.,  0.,  0.], dtype=float32)"
      ]
     },
     "execution_count": 38,
     "metadata": {},
     "output_type": "execute_result"
    }
   ],
   "source": [
    "dataset[\"percent_thin\"][:]"
   ]
  },
  {
   "cell_type": "code",
   "execution_count": 25,
   "metadata": {
    "collapsed": false
   },
   "outputs": [
    {
     "data": {
      "text/plain": [
       "array(1365984000, dtype=int32)"
      ]
     },
     "execution_count": 25,
     "metadata": {},
     "output_type": "execute_result"
    }
   ],
   "source": [
    "dataset[\"base_time\"][:]"
   ]
  },
  {
   "cell_type": "code",
   "execution_count": 30,
   "metadata": {
    "collapsed": false
   },
   "outputs": [
    {
     "data": {
      "text/plain": [
       "array([ 21833130.,  21833160.,  21833190.,  21833220.,  21833250.,\n",
       "        21833280.,  21833310.,  21833340.,  21833370.,  21833400.,\n",
       "        21833430.,  21833460.,  21833490.,  21833520.,  21833550.,\n",
       "        21833580.,  21833610.,  21833640.,  21833670.,  21833700.,\n",
       "        21833730.,  21833760.,  21833790.,  21833820.,  21833850.,\n",
       "        21833880.,  21833910.,  21833940.,  21833970.])"
      ]
     },
     "execution_count": 30,
     "metadata": {},
     "output_type": "execute_result"
    }
   ],
   "source": [
    "dataset[\"time_offset\"][:]"
   ]
  },
  {
   "cell_type": "code",
   "execution_count": 35,
   "metadata": {
    "collapsed": false
   },
   "outputs": [
    {
     "data": {
      "text/plain": [
       "odict_keys(['base_time', 'time_offset', 'time', 'qc_time', 'percent_opaque', 'qc_percent_opaque', 'percent_thin', 'qc_percent_thin', 'sunny', 'qc_sunny', 'sun_strength', 'qc_sun_strength', 'solar_altitude', 'qc_solar_altitude', 'solar_azimuth', 'qc_solar_azimuth', 'region_zenith_count_thin', 'qc_region_zenith_count_thin', 'region_zenith_count_opaque', 'qc_region_zenith_count_opaque', 'region_zenith_count', 'qc_region_zenith_count', 'region_sun_count_thin', 'qc_region_sun_count_thin', 'region_sun_count_opaque', 'qc_region_sun_count_opaque', 'region_sun_count', 'qc_region_sun_count', 'region_horizon_count_thin', 'qc_region_horizon_count_thin', 'region_horizon_count_opaque', 'qc_region_horizon_count_opaque', 'region_horizon_count', 'qc_region_horizon_count', 'count_sub_proczen', 'qc_count_sub_proczen', 'count_opaque', 'qc_count_opaque', 'count_thin', 'qc_count_thin', 'count_box', 'qc_count_box', 'count_sky', 'qc_count_sky', 'count_unknown', 'qc_count_unknown', 'count_mask', 'qc_count_mask', 'count_sub_horz', 'qc_count_sub_horz', 'lat', 'lon', 'alt'])"
      ]
     },
     "execution_count": 35,
     "metadata": {},
     "output_type": "execute_result"
    }
   ],
   "source": [
    "dataset.variables.keys()"
   ]
  },
  {
   "cell_type": "code",
   "execution_count": 36,
   "metadata": {
    "collapsed": false
   },
   "outputs": [
    {
     "data": {
      "text/plain": [
       "<class 'netCDF4._netCDF4.Variable'>\n",
       "float64 time(time)\n",
       "    long_name: Time offset from midnight\n",
       "    units: seconds since 2013-04-15 00:00:00 0:00\n",
       "unlimited dimensions: time\n",
       "current shape = (29,)\n",
       "filling off"
      ]
     },
     "execution_count": 36,
     "metadata": {},
     "output_type": "execute_result"
    }
   ],
   "source": [
    "dataset[\"time\"]"
   ]
  },
  {
   "cell_type": "code",
   "execution_count": 37,
   "metadata": {
    "collapsed": false
   },
   "outputs": [
    {
     "ename": "AttributeError",
     "evalue": "NetCDF: Attribute not found",
     "output_type": "error",
     "traceback": [
      "\u001b[0;31m---------------------------------------------------------------------------\u001b[0m",
      "\u001b[0;31mAttributeError\u001b[0m                            Traceback (most recent call last)",
      "\u001b[0;32m<ipython-input-37-070e2ec951f4>\u001b[0m in \u001b[0;36m<module>\u001b[0;34m()\u001b[0m\n\u001b[0;32m----> 1\u001b[0;31m \u001b[0mdataset\u001b[0m\u001b[0;34m.\u001b[0m\u001b[0mtime\u001b[0m\u001b[0;34m\u001b[0m\u001b[0m\n\u001b[0m",
      "\u001b[0;32mnetCDF4/_netCDF4.pyx\u001b[0m in \u001b[0;36mnetCDF4._netCDF4.Dataset.__getattr__ (netCDF4/_netCDF4.c:21275)\u001b[0;34m()\u001b[0m\n",
      "\u001b[0;32mnetCDF4/_netCDF4.pyx\u001b[0m in \u001b[0;36mnetCDF4._netCDF4.Dataset.getncattr (netCDF4/_netCDF4.c:20234)\u001b[0;34m()\u001b[0m\n",
      "\u001b[0;32mnetCDF4/_netCDF4.pyx\u001b[0m in \u001b[0;36mnetCDF4._netCDF4._get_att (netCDF4/_netCDF4.c:4520)\u001b[0;34m()\u001b[0m\n",
      "\u001b[0;31mAttributeError\u001b[0m: NetCDF: Attribute not found"
     ]
    }
   ],
   "source": [
    "dataset.time"
   ]
  },
  {
   "cell_type": "code",
   "execution_count": null,
   "metadata": {
    "collapsed": true
   },
   "outputs": [],
   "source": []
  }
 ],
 "metadata": {
  "kernelspec": {
   "display_name": "Python 3",
   "language": "python",
   "name": "python3"
  },
  "language_info": {
   "codemirror_mode": {
    "name": "ipython",
    "version": 3
   },
   "file_extension": ".py",
   "mimetype": "text/x-python",
   "name": "python",
   "nbconvert_exporter": "python",
   "pygments_lexer": "ipython3",
   "version": "3.5.2+"
  }
 },
 "nbformat": 4,
 "nbformat_minor": 2
}
