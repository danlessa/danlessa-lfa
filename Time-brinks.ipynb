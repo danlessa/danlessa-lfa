{
 "cells": [
  {
   "cell_type": "code",
   "execution_count": 26,
   "metadata": {
    "collapsed": false
   },
   "outputs": [],
   "source": [
    "import pandas as pd\n",
    "import matplotlib.pyplot as plt\n",
    "import numpy as np\n",
    "import common"
   ]
  },
  {
   "cell_type": "code",
   "execution_count": 43,
   "metadata": {
    "collapsed": false
   },
   "outputs": [],
   "source": [
    "raw_XL = pd.read_csv(\"CF-XL.csv\")\n",
    "raw_TSI = pd.read_csv(\"CF-TSI.csv\")"
   ]
  },
  {
   "cell_type": "code",
   "execution_count": 47,
   "metadata": {
    "collapsed": false
   },
   "outputs": [
    {
     "data": {
      "text/html": [
       "<div>\n",
       "<table border=\"1\" class=\"dataframe\">\n",
       "  <thead>\n",
       "    <tr style=\"text-align: right;\">\n",
       "      <th></th>\n",
       "      <th>CloudFraction</th>\n",
       "      <th>Time</th>\n",
       "    </tr>\n",
       "  </thead>\n",
       "  <tbody>\n",
       "    <tr>\n",
       "      <th>886917</th>\n",
       "      <td>--</td>\n",
       "      <td>2015-11-30 21:54:00</td>\n",
       "    </tr>\n",
       "    <tr>\n",
       "      <th>886918</th>\n",
       "      <td>--</td>\n",
       "      <td>2015-11-30 21:54:30</td>\n",
       "    </tr>\n",
       "    <tr>\n",
       "      <th>886919</th>\n",
       "      <td>--</td>\n",
       "      <td>2015-11-30 21:55:00</td>\n",
       "    </tr>\n",
       "    <tr>\n",
       "      <th>886920</th>\n",
       "      <td>--</td>\n",
       "      <td>2015-11-30 21:55:30</td>\n",
       "    </tr>\n",
       "    <tr>\n",
       "      <th>886921</th>\n",
       "      <td>--</td>\n",
       "      <td>2015-11-30 21:56:00</td>\n",
       "    </tr>\n",
       "  </tbody>\n",
       "</table>\n",
       "</div>"
      ],
      "text/plain": [
       "       CloudFraction                 Time\n",
       "886917            --  2015-11-30 21:54:00\n",
       "886918            --  2015-11-30 21:54:30\n",
       "886919            --  2015-11-30 21:55:00\n",
       "886920            --  2015-11-30 21:55:30\n",
       "886921            --  2015-11-30 21:56:00"
      ]
     },
     "execution_count": 47,
     "metadata": {},
     "output_type": "execute_result"
    }
   ],
   "source": [
    "raw_TSI.tail(5)"
   ]
  },
  {
   "cell_type": "code",
   "execution_count": null,
   "metadata": {
    "collapsed": true
   },
   "outputs": [],
   "source": []
  }
 ],
 "metadata": {
  "kernelspec": {
   "display_name": "Python 3",
   "language": "python",
   "name": "python3"
  },
  "language_info": {
   "codemirror_mode": {
    "name": "ipython",
    "version": 3
   },
   "file_extension": ".py",
   "mimetype": "text/x-python",
   "name": "python",
   "nbconvert_exporter": "python",
   "pygments_lexer": "ipython3",
   "version": "3.5.2+"
  }
 },
 "nbformat": 4,
 "nbformat_minor": 2
}
