{
 "cells": [
  {
   "cell_type": "code",
   "execution_count": 1,
   "metadata": {
    "collapsed": false,
    "deletable": true,
    "editable": true
   },
   "outputs": [],
   "source": [
    "import matplotlib.pyplot as plt\n",
    "import pandas as pd\n",
    "import numpy as np\n",
    "import netCDF4 as nc\n",
    "import XL\n",
    "import os\n",
    "import time\n",
    "import pysolar\n",
    "import common\n",
    "import datetime"
   ]
  },
  {
   "cell_type": "code",
   "execution_count": 17,
   "metadata": {
    "collapsed": false,
    "deletable": true,
    "editable": true
   },
   "outputs": [
    {
     "data": {
      "text/plain": [
       "odict_keys(['base_time', 'time_offset', 'time', 'time_bounds', 'downwelling_shortwave', 'source_downwelling_shortwave', 'qc_downwelling_shortwave', 'clearsky_downwelling_shortwave', 'downwelling_longwave', 'qc_downwelling_longwave', 'clearsky_downwelling_longwave', 'upwelling_shortwave', 'qc_upwelling_shortwave', 'clearsky_upwelling_shortwave', 'upwelling_longwave', 'qc_upwelling_longwave', 'clearsky_upwelling_longwave', 'diffuse_downwelling_shortwave', 'source_diffuse_downwelling_shortwave', 'qc_diffuse_downwelling_shortwave', 'clearsky_diffuse_downwelling_shortwave', 'direct_downwelling_shortwave', 'source_direct_downwelling_shortwave', 'qc_direct_downwelling_shortwave', 'clearsky_direct_downwelling_shortwave', 'clearsky_status', 'cloudfraction_longwave', 'cloudfraction_shortwave', 'cloudfraction_shortwave_status', 'visible_cloud_optical_depth', 'brightness_temperature', 'cloud_radiating_temperature', 'clearsky_emissivity_longwave', 'cosine_zenith', 'cloud_transmissivity_shortwave', 'tau_asymmetry_parameter_status', 'tau_temperature_limit_status', 'ice_cloud_temperature_limit', 'rh_adjustment_to_clearsky_emissivity_longwave', 'wind_speed', 'qc_wind_speed', 'wind_direction', 'qc_wind_direction', 'air_temperature', 'qc_air_temperature', 'relative_humidity', 'qc_relative_humidity', 'vapor_pressure', 'pressure', 'qc_pressure', 'precipitation', 'qc_precipitation', 'lat', 'lon', 'alt'])"
      ]
     },
     "execution_count": 17,
     "metadata": {},
     "output_type": "execute_result"
    }
   ],
   "source": [
    "test_path = os.path.expanduser(\"/home/danilo/dados-ic/maoradflux1longM1.c2/maoradflux1longM1.c2.20151111.040000.custom.nc\")\n",
    "test_path = os.path.expanduser(\"/home/danilo/ftp.archive.arm.gov/bernardinelid1/185487/maoradflux1longM1.c2.20131223.040000.nc\")\n",
    "dataset = nc.Dataset(test_path, \"r\")\n",
    "dataset.variables.keys()"
   ]
  },
  {
   "cell_type": "code",
   "execution_count": 3,
   "metadata": {
    "collapsed": false,
    "deletable": true,
    "editable": true,
    "scrolled": true
   },
   "outputs": [
    {
     "name": "stderr",
     "output_type": "stream",
     "text": [
      "/usr/local/lib/python3.5/dist-packages/ipykernel/__main__.py:15: RuntimeWarning: overflow encountered in exp\n"
     ]
    }
   ],
   "source": [
    "    # variables without mask\n",
    "    base_time = dataset[\"base_time\"][0]\n",
    "    time_offset = dataset[\"time_offset\"][:]\n",
    "    timestamp = time_offset + base_time\n",
    "    Fdn_clr = dataset[\"clearsky_downwelling_shortwave\"][:]\n",
    "    Fdn_all = dataset[\"downwelling_shortwave\"][:]\n",
    "    Fdn_clr_d = dataset[\"clearsky_direct_downwelling_shortwave\"][:]\n",
    "    rad_cf_short = dataset[\"cloudfraction_shortwave\"][:]\n",
    "    rad_cf_long = dataset[\"cloudfraction_longwave\"][:]\n",
    "    # variables with mask\n",
    "    Fup_all = dataset[\"upwelling_shortwave\"][:]\n",
    "    Fdn_all_d = dataset[\"direct_downwelling_shortwave\"][:]\n",
    "    cod = dataset[\"visible_cloud_optical_depth\"][:]\n",
    "\n",
    "    T = np.exp(-cod)\n",
    "    solar_zenith = []\n",
    "    for t in timestamp:\n",
    "        datim = datetime.datetime.fromtimestamp(t)\n",
    "        ang = pysolar.solar.get_altitude(common.lat_mao, common.lon_mao, datim)\n",
    "        solar_zenith.append(ang)\n",
    "    solar_zen_cosine = np.sin(np.radians(solar_zenith))"
   ]
  },
  {
   "cell_type": "code",
   "execution_count": 4,
   "metadata": {
    "collapsed": true,
    "deletable": true,
    "editable": true
   },
   "outputs": [],
   "source": [
    "def h(dat):\n",
    "    return dat[np.isfinite(dat)]"
   ]
  },
  {
   "cell_type": "code",
   "execution_count": 5,
   "metadata": {
    "collapsed": false,
    "deletable": true,
    "editable": true
   },
   "outputs": [
    {
     "name": "stderr",
     "output_type": "stream",
     "text": [
      "/home/danilo/atmosphere-br/danlessa/XL.py:76: RuntimeWarning: invalid value encountered in less\n",
      "  B1 / B2 < 0.07) | ~np.isfinite(B1) | ~np.isfinite(B2)\n",
      "/home/danilo/atmosphere-br/danlessa/XL.py:76: RuntimeWarning: invalid value encountered in greater\n",
      "  B1 / B2 < 0.07) | ~np.isfinite(B1) | ~np.isfinite(B2)\n"
     ]
    }
   ],
   "source": [
    "(B1, B2) = XL.get_B(Fdn_clr, Fdn_all, Fup_all, Fdn_clr_d, Fdn_all_d, T)\n",
    "cloud_albedo = XL.get_cloud_albedo(B1, B2)\n",
    "cloud_albedo_cor = XL.cloud_albedo_correction(cloud_albedo, solar_zen_cosine)\n",
    "cloud_fraction = XL.get_cloud_fraction(cloud_albedo, B1)\n",
    "cloud_fraction_cor = XL.get_cloud_fraction(cloud_albedo_cor, B1)"
   ]
  },
  {
   "cell_type": "code",
   "execution_count": 11,
   "metadata": {
    "collapsed": false,
    "deletable": true,
    "editable": true
   },
   "outputs": [
    {
     "data": {
      "image/png": "[encoded data removed]",
      "text/plain": [
       "<matplotlib.figure.Figure at 0x7fd98a9fffd0>"
      ]
     },
     "metadata": {},
     "output_type": "display_data"
    }
   ],
   "source": [
    "plt.hist(h(B1))\n",
    "plt.show()"
   ]
  },
  {
   "cell_type": "code",
   "execution_count": null,
   "metadata": {
    "collapsed": true,
    "deletable": true,
    "editable": true
   },
   "outputs": [],
   "source": []
  }
 ],
 "metadata": {
  "kernelspec": {
   "display_name": "Python 3",
   "language": "python",
   "name": "python3"
  },
  "language_info": {
   "codemirror_mode": {
    "name": "ipython",
    "version": 3
   },
   "file_extension": ".py",
   "mimetype": "text/x-python",
   "name": "python",
   "nbconvert_exporter": "python",
   "pygments_lexer": "ipython3",
   "version": "3.5.2+"
  }
 },
 "nbformat": 4,
 "nbformat_minor": 2
}
