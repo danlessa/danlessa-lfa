{
 "cells": [
  {
   "cell_type": "code",
   "execution_count": 224,
   "metadata": {
    "collapsed": true
   },
   "outputs": [],
   "source": [
    "import matplotlib.pyplot as plt\n",
    "import pandas as pd\n",
    "import numpy as np\n",
    "import netCDF4 as nc\n",
    "import xie_liu as XL"
   ]
  },
  {
   "cell_type": "code",
   "execution_count": 225,
   "metadata": {
    "collapsed": false
   },
   "outputs": [
    {
     "data": {
      "text/plain": [
       "odict_keys(['base_time', 'time_offset', 'time', 'time_bounds', 'downwelling_shortwave', 'source_downwelling_shortwave', 'qc_downwelling_shortwave', 'clearsky_downwelling_shortwave', 'downwelling_longwave', 'qc_downwelling_longwave', 'clearsky_downwelling_longwave', 'upwelling_shortwave', 'qc_upwelling_shortwave', 'clearsky_upwelling_shortwave', 'upwelling_longwave', 'qc_upwelling_longwave', 'clearsky_upwelling_longwave', 'diffuse_downwelling_shortwave', 'source_diffuse_downwelling_shortwave', 'qc_diffuse_downwelling_shortwave', 'clearsky_diffuse_downwelling_shortwave', 'direct_downwelling_shortwave', 'source_direct_downwelling_shortwave', 'qc_direct_downwelling_shortwave', 'clearsky_direct_downwelling_shortwave', 'clearsky_status', 'cloudfraction_longwave', 'cloudfraction_shortwave', 'cloudfraction_shortwave_status', 'visible_cloud_optical_depth', 'brightness_temperature', 'cloud_radiating_temperature', 'clearsky_emissivity_longwave', 'cosine_zenith', 'cloud_transmissivity_shortwave', 'tau_asymmetry_parameter_status', 'tau_temperature_limit_status', 'ice_cloud_temperature_limit', 'rh_adjustment_to_clearsky_emissivity_longwave', 'wind_speed', 'qc_wind_speed', 'wind_direction', 'qc_wind_direction', 'air_temperature', 'qc_air_temperature', 'relative_humidity', 'qc_relative_humidity', 'vapor_pressure', 'pressure', 'qc_pressure', 'precipitation', 'qc_precipitation', 'lat', 'lon', 'alt'])"
      ]
     },
     "execution_count": 225,
     "metadata": {},
     "output_type": "execute_result"
    }
   ],
   "source": [
    "test_path = \"dados/maoradflux1long/maoradflux1longM1.c2.20131223.040000.nc\"\n",
    "dataset = nc.Dataset(test_path, \"r\")\n",
    "dataset.variables.keys()"
   ]
  },
  {
   "cell_type": "code",
   "execution_count": 248,
   "metadata": {
    "collapsed": false
   },
   "outputs": [],
   "source": [
    "    path = test_path\n",
    "    dataset = nc.Dataset(path, \"r\")\n",
    "    base_time = dataset[\"base_time\"][0]\n",
    "    time_offset = dataset[\"time_offset\"][:]\n",
    "    Fdn_clr = dataset[\"clearsky_downwelling_shortwave\"][:]\n",
    "    Fdn_all = dataset[\"downwelling_shortwave\"][:]\n",
    "    Fup_all = dataset[\"upwelling_shortwave\"][:]\n",
    "    Fdn_clr_d = dataset[\"clearsky_direct_downwelling_shortwave\"][:]\n",
    "    Fdn_all_d = dataset[\"direct_downwelling_shortwave\"][:]\n",
    "    rad_cf_short = dataset[\"cloudfraction_shortwave\"][:]\n",
    "    rad_cf_long = dataset[\"cloudfraction_longwave\"][:]\n",
    "    rad_cf_short_status = dataset[\"cloudfraction_shortwave_status\"][:]\n",
    "    cf2 = dataset[\"cloudfraction_longwave\"][:]\n",
    "    cf3 = dataset[\"cloudfraction_shortwave\"][:]\n",
    "    T = dataset[\"cloud_transmissivity_shortwave\"][:]\n",
    "    solar_zen_cosine = dataset[\"cosine_zenith\"][:]"
   ]
  },
  {
   "cell_type": "code",
   "execution_count": 249,
   "metadata": {
    "collapsed": true
   },
   "outputs": [],
   "source": [
    "(B1, B2) = XL.get_B(Fdn_clr, Fdn_all, Fup_all, Fdn_clr_d, Fdn_all_d, T)"
   ]
  },
  {
   "cell_type": "code",
   "execution_count": 250,
   "metadata": {
    "collapsed": false
   },
   "outputs": [
    {
     "data": {
      "text/plain": [
       "0.17847222222222223"
      ]
     },
     "execution_count": 250,
     "metadata": {},
     "output_type": "execute_result"
    }
   ],
   "source": [
    "len(cf2[cf2 == cf3]) / len(cf2)"
   ]
  },
  {
   "cell_type": "code",
   "execution_count": 255,
   "metadata": {
    "collapsed": false
   },
   "outputs": [
    {
     "data": {
      "image/png": "[encoded data removed]",
      "text/plain": [
       "<matplotlib.figure.Figure at 0x7f4814d27f60>"
      ]
     },
     "metadata": {},
     "output_type": "display_data"
    }
   ],
   "source": [
    "plt.plot(cf2, cf3, '.')\n",
    "plt.show()"
   ]
  },
  {
   "cell_type": "code",
   "execution_count": 197,
   "metadata": {
    "collapsed": false
   },
   "outputs": [
    {
     "data": {
      "text/plain": [
       "277.29999"
      ]
     },
     "execution_count": 197,
     "metadata": {},
     "output_type": "execute_result"
    }
   ],
   "source": [
    "Fdn_clr_d[464]"
   ]
  },
  {
   "cell_type": "code",
   "execution_count": 198,
   "metadata": {
    "collapsed": false
   },
   "outputs": [
    {
     "data": {
      "text/plain": [
       "array([[464],\n",
       "       [465],\n",
       "       [679],\n",
       "       [695],\n",
       "       [696],\n",
       "       [702],\n",
       "       [703],\n",
       "       [909]])"
      ]
     },
     "execution_count": 198,
     "metadata": {},
     "output_type": "execute_result"
    }
   ],
   "source": [
    "np.argwhere(B2 > 1)"
   ]
  },
  {
   "cell_type": "code",
   "execution_count": 199,
   "metadata": {
    "collapsed": false
   },
   "outputs": [
    {
     "data": {
      "image/png": "[encoded data removed]",
      "text/plain": [
       "<matplotlib.figure.Figure at 0x7f481be8d2e8>"
      ]
     },
     "metadata": {},
     "output_type": "display_data"
    }
   ],
   "source": [
    "plt.hist(B1)\n",
    "plt.show()"
   ]
  },
  {
   "cell_type": "code",
   "execution_count": 200,
   "metadata": {
    "collapsed": true
   },
   "outputs": [],
   "source": [
    "T = dataset[\"cloud_transmissivity_shortwave\"][:]"
   ]
  },
  {
   "cell_type": "code",
   "execution_count": 201,
   "metadata": {
    "collapsed": false
   },
   "outputs": [
    {
     "data": {
      "image/png": "[encoded data removed]",
      "text/plain": [
       "<matplotlib.figure.Figure at 0x7f482872f438>"
      ]
     },
     "metadata": {},
     "output_type": "display_data"
    }
   ],
   "source": [
    "T = T[T > -1]\n",
    "plt.hist(T)\n",
    "plt.show()"
   ]
  },
  {
   "cell_type": "code",
   "execution_count": 202,
   "metadata": {
    "collapsed": false
   },
   "outputs": [
    {
     "data": {
      "text/plain": [
       "0.3181818181818182"
      ]
     },
     "execution_count": 202,
     "metadata": {},
     "output_type": "execute_result"
    }
   ],
   "source": [
    "len(T[T > 1]) / len(T)"
   ]
  },
  {
   "cell_type": "code",
   "execution_count": 203,
   "metadata": {
    "collapsed": false
   },
   "outputs": [
    {
     "data": {
      "text/plain": [
       "<class 'netCDF4._netCDF4.Variable'>\n",
       "float32 cloud_transmissivity_shortwave(time)\n",
       "    long_name: Shortwave cloud transmissivity\n",
       "    units: unitless\n",
       "    comment: calculated as ratio of downwelling_shortwave to clearsky_downwelling_shortwave\n",
       "    missing_value: -9999.0\n",
       "    cell_methods: time: mean\n",
       "unlimited dimensions: time\n",
       "current shape = (1440,)\n",
       "filling off"
      ]
     },
     "execution_count": 203,
     "metadata": {},
     "output_type": "execute_result"
    }
   ],
   "source": [
    "dataset[\"cloud_transmissivity_shortwave\"]"
   ]
  },
  {
   "cell_type": "code",
   "execution_count": 274,
   "metadata": {
    "collapsed": false
   },
   "outputs": [],
   "source": [
    "raw = pd.read_csv(\"CF-XL.csv\")\n",
    "raw.XL_CloudFraction = pd.to_numeric(raw.XL_CloudFraction, errors=\"coerce\")\n",
    "#raw = raw[~np.isnan(raw.XL_CloudFraction)]\n",
    "raw.Longwave_CloudFraction = pd.to_numeric(raw.Longwave_CloudFraction, errors=\"coerce\")\n",
    "raw.Shortwave_CloudFraction = pd.to_numeric(raw.Shortwave_CloudFraction, errors=\"coerce\")"
   ]
  },
  {
   "cell_type": "code",
   "execution_count": 276,
   "metadata": {
    "collapsed": false
   },
   "outputs": [
    {
     "data": {
      "text/plain": [
       "0.034755571249215314"
      ]
     },
     "execution_count": 276,
     "metadata": {},
     "output_type": "execute_result"
    }
   ],
   "source": [
    "cf_long = raw.Longwave_CloudFraction\n",
    "cf_short = raw.Shortwave_CloudFraction\n",
    "len(cf_long[cf_long == cf_short]) / len(raw)"
   ]
  },
  {
   "cell_type": "code",
   "execution_count": 277,
   "metadata": {
    "collapsed": false,
    "scrolled": true
   },
   "outputs": [
    {
     "name": "stderr",
     "output_type": "stream",
     "text": [
      "/usr/local/lib/python3.5/dist-packages/numpy/lib/function_base.py:747: RuntimeWarning: invalid value encountered in greater_equal\n",
      "  keep = (tmp_a >= mn)\n",
      "/usr/local/lib/python3.5/dist-packages/numpy/lib/function_base.py:748: RuntimeWarning: invalid value encountered in less_equal\n",
      "  keep &= (tmp_a <= mx)\n"
     ]
    },
    {
     "data": {
      "image/png": "[encoded data removed]",
      "text/plain": [
       "<matplotlib.figure.Figure at 0x7f4830922cc0>"
      ]
     },
     "metadata": {},
     "output_type": "display_data"
    }
   ],
   "source": [
    "plt.hist(raw.XL_CloudFraction, range=(0, 1.1))\n",
    "plt.show()"
   ]
  },
  {
   "cell_type": "code",
   "execution_count": 278,
   "metadata": {
    "collapsed": false
   },
   "outputs": [
    {
     "data": {
      "image/png": "[encoded data removed]",
      "text/plain": [
       "<matplotlib.figure.Figure at 0x7f48176c1550>"
      ]
     },
     "metadata": {},
     "output_type": "display_data"
    }
   ],
   "source": [
    "cf = raw.XL_CloudFractionCorrected\n",
    "inds = (~np.isnan(cf)) & (~np.isinf(cf)) & (cf < 2)\n",
    "t = raw.Time[inds]\n",
    "cf = cf[inds]\n",
    "plt.hist2d(x=t, y=cf)\n",
    "plt.show()"
   ]
  },
  {
   "cell_type": "code",
   "execution_count": 279,
   "metadata": {
    "collapsed": false
   },
   "outputs": [
    {
     "data": {
      "image/png": "[encoded data removed]",
      "text/plain": [
       "<matplotlib.figure.Figure at 0x7f4830922978>"
      ]
     },
     "metadata": {},
     "output_type": "display_data"
    }
   ],
   "source": [
    "plt.hist(cf, range=(1, 2), bins=50)\n",
    "plt.show()"
   ]
  },
  {
   "cell_type": "code",
   "execution_count": 295,
   "metadata": {
    "collapsed": false
   },
   "outputs": [
    {
     "data": {
      "image/png": "[encoded data removed]",
      "text/plain": [
       "<matplotlib.figure.Figure at 0x7f4814d15710>"
      ]
     },
     "metadata": {},
     "output_type": "display_data"
    }
   ],
   "source": [
    "cf1 = raw.XL_CloudFraction\n",
    "cf2 = raw.Longwave_CloudFraction\n",
    "inds = (cf1 < 1.2) & (cf2 < 1.2) & (~np.isinf(cf1)) & (~np.isinf(cf2)) & (cf1 > 0) & (cf2 > 0)\n",
    "cf1 = cf1[inds]\n",
    "cf2 = cf2[inds]\n",
    "plt.hist2d(cf1, cf2, normed=True, bins=100, range=((0.9, 1.2), (0.9, 1.2)))\n",
    "plt.xlabel(\"CF normal\")\n",
    "plt.ylabel(\"CF corrigida\")\n",
    "plt.colorbar()\n",
    "plt.show()"
   ]
  },
  {
   "cell_type": "code",
   "execution_count": 296,
   "metadata": {
    "collapsed": false
   },
   "outputs": [
    {
     "name": "stderr",
     "output_type": "stream",
     "text": [
      "/usr/local/lib/python3.5/dist-packages/numpy/lib/function_base.py:747: RuntimeWarning: invalid value encountered in greater_equal\n",
      "  keep = (tmp_a >= mn)\n",
      "/usr/local/lib/python3.5/dist-packages/numpy/lib/function_base.py:748: RuntimeWarning: invalid value encountered in less_equal\n",
      "  keep &= (tmp_a <= mx)\n"
     ]
    },
    {
     "data": {
      "image/png": "[encoded data removed]",
      "text/plain": [
       "<matplotlib.figure.Figure at 0x7f4828253eb8>"
      ]
     },
     "metadata": {},
     "output_type": "display_data"
    }
   ],
   "source": [
    "cf2 = raw.Longwave_CloudFraction\n",
    "cf3 = raw.Shortwave_CloudFraction\n",
    "\n",
    "plt.hist(cf2, range=(0, 1))\n",
    "plt.show()"
   ]
  },
  {
   "cell_type": "code",
   "execution_count": 297,
   "metadata": {
    "collapsed": false
   },
   "outputs": [
    {
     "data": {
      "image/png": "[encoded data removed]",
      "text/plain": [
       "<matplotlib.figure.Figure at 0x7f482faa0cc0>"
      ]
     },
     "metadata": {},
     "output_type": "display_data"
    }
   ],
   "source": [
    "inds = (~np.isnan(cf2)) & (~np.isnan(cf3))\n",
    "cf2 = cf2[inds]\n",
    "cf3 = cf3[inds]\n",
    "\n",
    "plt.hist2d(x=cf2, y=cf3, bins=10)\n",
    "plt.xlabel(\"Long\")\n",
    "plt.ylabel(\"Short\")\n",
    "plt.colorbar()\n",
    "plt.show()"
   ]
  },
  {
   "cell_type": "code",
   "execution_count": 285,
   "metadata": {
    "collapsed": false
   },
   "outputs": [
    {
     "data": {
      "image/png": "[encoded data removed]",
      "text/plain": [
       "<matplotlib.figure.Figure at 0x7f482853eb00>"
      ]
     },
     "metadata": {},
     "output_type": "display_data"
    }
   ],
   "source": [
    "plt.plot(cf2, cf3, ',')\n",
    "plt.show()"
   ]
  },
  {
   "cell_type": "code",
   "execution_count": 265,
   "metadata": {
    "collapsed": false
   },
   "outputs": [
    {
     "data": {
      "text/plain": [
       "1.0"
      ]
     },
     "execution_count": 265,
     "metadata": {},
     "output_type": "execute_result"
    }
   ],
   "source": [
    "len(cf2[cf2 == cf3]) / len(cf2)"
   ]
  },
  {
   "cell_type": "code",
   "execution_count": null,
   "metadata": {
    "collapsed": true
   },
   "outputs": [],
   "source": []
  }
 ],
 "metadata": {
  "kernelspec": {
   "display_name": "Python 3",
   "language": "python",
   "name": "python3"
  },
  "language_info": {
   "codemirror_mode": {
    "name": "ipython",
    "version": 3
   },
   "file_extension": ".py",
   "mimetype": "text/x-python",
   "name": "python",
   "nbconvert_exporter": "python",
   "pygments_lexer": "ipython3",
   "version": "3.5.2+"
  }
 },
 "nbformat": 4,
 "nbformat_minor": 2
}
