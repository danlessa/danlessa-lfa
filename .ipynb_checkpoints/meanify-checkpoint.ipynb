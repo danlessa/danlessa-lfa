{
 "cells": [
  {
   "cell_type": "code",
   "execution_count": 9,
   "metadata": {
    "collapsed": true
   },
   "outputs": [],
   "source": [
    "import numpy as np\n",
    "import pandas as pd\n",
    "import os\n",
    "import common\n",
    "import matplotlib.pyplot as plt"
   ]
  },
  {
   "cell_type": "markdown",
   "metadata": {},
   "source": [
    "## Unificar datasets"
   ]
  },
  {
   "cell_type": "code",
   "execution_count": 2,
   "metadata": {
    "collapsed": false
   },
   "outputs": [],
   "source": [
    "dat1 = pd.read_csv(\"rad.csv\")\n",
    "dat2 = pd.read_csv(\"tsi.csv\")\n",
    "dat3 = pd.read_csv(\"lidar.csv\")\n",
    "dat12 = pd.merge(dat1, dat2)\n",
    "dat123 = pd.merge(dat12, dat3)\n",
    "dat = dat123.sort_values(by=\"Time\")\n",
    "dat.to_csv(\"unificado.csv\", index=False)"
   ]
  },
  {
   "cell_type": "markdown",
   "metadata": {},
   "source": [
    "## Criar intervalo de comparação"
   ]
  },
  {
   "cell_type": "code",
   "execution_count": 3,
   "metadata": {
    "collapsed": false
   },
   "outputs": [],
   "source": [
    "dat = pd.read_csv(\"unificado.csv\", parse_dates=[\"Time\"], na_values=[\"--\"])"
   ]
  },
  {
   "cell_type": "code",
   "execution_count": 4,
   "metadata": {
    "collapsed": false
   },
   "outputs": [
    {
     "name": "stderr",
     "output_type": "stream",
     "text": [
      "/usr/local/lib/python3.5/dist-packages/ipykernel/__main__.py:12: RuntimeWarning: Mean of empty slice\n",
      "/usr/local/lib/python3.5/dist-packages/ipykernel/__main__.py:13: RuntimeWarning: Mean of empty slice\n",
      "/usr/local/lib/python3.5/dist-packages/ipykernel/__main__.py:14: RuntimeWarning: Mean of empty slice\n",
      "/usr/local/lib/python3.5/dist-packages/ipykernel/__main__.py:15: RuntimeWarning: Mean of empty slice\n",
      "/usr/local/lib/python3.5/dist-packages/ipykernel/__main__.py:22: RuntimeWarning: Mean of empty slice\n"
     ]
    },
    {
     "name": "stdout",
     "output_type": "stream",
     "text": [
      "58561\n",
      "57561\n",
      "56561\n",
      "55561\n",
      "54561\n",
      "53561\n",
      "52561\n",
      "51561\n",
      "50561\n",
      "49561\n",
      "48561\n",
      "47561\n",
      "46561\n",
      "45561\n",
      "44561\n",
      "43561\n",
      "42561\n",
      "41561\n",
      "40561\n",
      "39561\n",
      "38561\n",
      "37561\n",
      "36561\n",
      "35561\n",
      "34561\n",
      "33561\n",
      "32561\n",
      "31561\n",
      "30561\n",
      "29561\n",
      "28561\n",
      "27561\n",
      "26561\n",
      "25561\n",
      "24561\n",
      "23561\n",
      "22561\n",
      "21561\n",
      "20561\n",
      "19561\n",
      "18561\n",
      "17561\n",
      "16561\n",
      "15561\n",
      "14561\n",
      "13561\n",
      "12561\n",
      "11561\n",
      "10561\n",
      "9561\n",
      "8561\n",
      "7561\n",
      "6561\n",
      "5561\n",
      "4561\n",
      "3561\n",
      "2561\n",
      "1561\n",
      "561\n"
     ]
    }
   ],
   "source": [
    "date_min = np.min(dat.Time).date()\n",
    "date_max = np.max(dat.Time).date()\n",
    "intervalos = pd.date_range(start=date_min, end=date_max, freq=\"15Min\")\n",
    "output = {\"Lidar_Mean_CloudFraction\": [], \"Long_SW_Mean_CloudFraction\": [],\n",
    "          \"Long_LW_Mean_CloudFraction\": [], \"TSI_Mean_CloudFraction\": [],\n",
    "          \"Time\": [], \"Mean_CloudFraction\": [], \"Std_CloudFraction\": [], \"N\": []}\n",
    "\n",
    "\n",
    "for i in range(len(intervalos) - 1):\n",
    "    dat_it = dat[(dat.Time >= intervalos[i]) & (dat.Time < intervalos[i + 1])]\n",
    "                                                       \n",
    "    lidar = np.nanmean(dat_it.Lidar_CloudFraction)\n",
    "    long_sw = np.nanmean(dat_it.Long_SW_CloudFraction)\n",
    "    long_lw = np.nanmean(dat_it.Long_LW_CloudFraction)\n",
    "    tsi = np.nanmean(dat_it.TSI_CloudFraction)\n",
    "    \n",
    "    output[\"Lidar_Mean_CloudFraction\"].append(lidar)\n",
    "    output[\"Long_SW_Mean_CloudFraction\"].append(long_sw)\n",
    "    output[\"Long_LW_Mean_CloudFraction\"].append(long_lw)\n",
    "    output[\"TSI_Mean_CloudFraction\"].append(tsi)\n",
    "    arr = np.array([lidar, long_sw, long_lw, tsi])\n",
    "    mean = np.nanmean(arr)\n",
    "    N = arr[np.isfinite(arr)]\n",
    "    std = np.std(arr)\n",
    "                                                       \n",
    "    output[\"Mean_CloudFraction\"].append(mean)\n",
    "    output[\"Std_CloudFraction\"].append(std)\n",
    "    output[\"N\"].append(len(N))\n",
    "    output[\"Time\"] = intervalos[i]    \n",
    "    if i % 1000 == 0:\n",
    "        print(len(intervalos) - i)"
   ]
  },
  {
   "cell_type": "code",
   "execution_count": 10,
   "metadata": {
    "collapsed": true
   },
   "outputs": [],
   "source": [
    "out_dat = pd.DataFrame(output)\n",
    "out_dat.to_csv(\"aglomerado.csv\", index=True)"
   ]
  },
  {
   "cell_type": "code",
   "execution_count": 18,
   "metadata": {
    "collapsed": false
   },
   "outputs": [
    {
     "data": {
      "image/png": "[encoded data removed]",
      "text/plain": [
       "<matplotlib.figure.Figure at 0x7ff927304c18>"
      ]
     },
     "metadata": {},
     "output_type": "display_data"
    }
   ],
   "source": [
    "plt.hist(out_dat.Std_CloudFraction[np.isfinite(out_dat.Std_CloudFraction)], bins=20)\n",
    "plt.show()"
   ]
  },
  {
   "cell_type": "code",
   "execution_count": null,
   "metadata": {
    "collapsed": true
   },
   "outputs": [],
   "source": []
  }
 ],
 "metadata": {
  "kernelspec": {
   "display_name": "Python 3",
   "language": "python",
   "name": "python3"
  },
  "language_info": {
   "codemirror_mode": {
    "name": "ipython",
    "version": 3
   },
   "file_extension": ".py",
   "mimetype": "text/x-python",
   "name": "python",
   "nbconvert_exporter": "python",
   "pygments_lexer": "ipython3",
   "version": "3.5.2+"
  }
 },
 "nbformat": 4,
 "nbformat_minor": 2
}
