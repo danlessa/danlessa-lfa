{
 "cells": [
  {
   "cell_type": "code",
   "execution_count": 1,
   "metadata": {
    "collapsed": false,
    "deletable": true,
    "editable": true
   },
   "outputs": [],
   "source": [
    "import matplotlib.pyplot as plt\n",
    "import pandas as pd\n",
    "import numpy as np\n",
    "import netCDF4 as nc\n",
    "import XL\n",
    "import os\n",
    "import time\n",
    "import pysolar\n",
    "import common\n",
    "import datetime"
   ]
  },
  {
   "cell_type": "code",
   "execution_count": 15,
   "metadata": {
    "collapsed": false,
    "deletable": true,
    "editable": true
   },
   "outputs": [
    {
     "data": {
      "text/plain": [
       "odict_keys(['base_time', 'time_offset', 'time', 'cloudfraction_shortwave', 'diffuse_downwelling_shortwave', 'upwelling_longwave', 'brightness_temperature', 'clearsky_upwelling_shortwave', 'clearsky_emissivity_longwave', 'cloudfraction_longwave', 'clearsky_diffuse_downwelling_shortwave', 'downwelling_longwave', 'upwelling_shortwave', 'downwelling_shortwave', 'clearsky_downwelling_longwave', 'clearsky_downwelling_shortwave', 'visible_cloud_optical_depth', 'clearsky_direct_downwelling_shortwave', 'clearsky_upwelling_longwave', 'direct_downwelling_shortwave', 'alt', 'lon', 'lat'])"
      ]
     },
     "execution_count": 15,
     "metadata": {},
     "output_type": "execute_result"
    }
   ],
   "source": [
    "test_path = os.path.expanduser(\"/home/danilo/dados-ic/maoradflux1longM1.c2/maoradflux1longM1.c2.20131223.040000.custom.nc\")\n",
    "dataset = nc.Dataset(test_path, \"r\")\n",
    "dataset.variables.keys()"
   ]
  },
  {
   "cell_type": "code",
   "execution_count": 28,
   "metadata": {
    "collapsed": false,
    "deletable": true,
    "editable": true
   },
   "outputs": [],
   "source": [
    "    Fup_all = dataset[\"upwelling_shortwave\"][:]\n",
    "    Fdn_all_d = dataset[\"direct_downwelling_shortwave\"][:]\n",
    "    cod = dataset[\"visible_cloud_optical_depth\"][:]\n",
    "    invalid_inds = Fup_all.mask | Fdn_all_d.mask\n",
    "    invalid_inds |= cod.mask\n",
    "    valid_inds = ~invalid_inds\n",
    "\n",
    "    # variables without mask\n",
    "    base_time = dataset[\"base_time\"][0]\n",
    "    time_offset = dataset[\"time_offset\"][valid_inds]\n",
    "    timestamp = time_offset + base_time\n",
    "    Fdn_clr = dataset[\"clearsky_downwelling_shortwave\"][valid_inds]\n",
    "    Fdn_all = dataset[\"downwelling_shortwave\"][valid_inds]\n",
    "    Fdn_clr_d = dataset[\"clearsky_direct_downwelling_shortwave\"][valid_inds]\n",
    "    rad_cf_short = dataset[\"cloudfraction_shortwave\"][valid_inds]\n",
    "    rad_cf_long = dataset[\"cloudfraction_longwave\"][valid_inds]\n",
    "\n",
    "    Fup_all = dataset[\"upwelling_shortwave\"][valid_inds]\n",
    "    Fdn_all_d = dataset[\"direct_downwelling_shortwave\"][valid_inds]\n",
    "    cod = dataset[\"visible_cloud_optical_depth\"][valid_inds]\n",
    "\n",
    "    T = np.exp(-cod)\n",
    "    solar_zenith = []\n",
    "    for t in timestamp:\n",
    "        datim = datetime.datetime.fromtimestamp(t)\n",
    "        ang = pysolar.solar.get_altitude(common.lat_mao, common.lon_mao, datim)\n",
    "        solar_zenith.append(ang)\n",
    "    solar_zen_cosine = np.sin(np.radians(solar_zenith))"
   ]
  },
  {
   "cell_type": "code",
   "execution_count": 53,
   "metadata": {
    "collapsed": false
   },
   "outputs": [],
   "source": [
    "for k in dataset.variables.keys():\n",
    "    dataset[k]"
   ]
  },
  {
   "cell_type": "code",
   "execution_count": 58,
   "metadata": {
    "collapsed": false
   },
   "outputs": [
    {
     "data": {
      "text/plain": [
       "<class 'netCDF4._netCDF4.Variable'>\n",
       "float32 visible_cloud_optical_depth(time)\n",
       "    long_name: Estimated effective visible cloud optical depth\n",
       "    units: unitless\n",
       "    comment: only valid when cloudfraction_shortwave > 0.95; missing_value indicates value could not be calculated.\n",
       "    missing_value: -9999.0\n",
       "    standard_name: atmosphere_optical_thickness_due_to_cloud\n",
       "    cell_methods: time: mean\n",
       "unlimited dimensions: time\n",
       "current shape = (1440,)\n",
       "filling off"
      ]
     },
     "execution_count": 58,
     "metadata": {},
     "output_type": "execute_result"
    }
   ],
   "source": [
    "dataset[\"visible_cloud_optical_depth\"]"
   ]
  },
  {
   "cell_type": "code",
   "execution_count": 29,
   "metadata": {
    "collapsed": false,
    "deletable": true,
    "editable": true
   },
   "outputs": [
    {
     "name": "stderr",
     "output_type": "stream",
     "text": [
      "/home/danilo/atmosphere-br/danlessa/XL.py:91: RuntimeWarning: divide by zero encountered in true_divide\n",
      "  return B1 / cloud_albedo\n"
     ]
    }
   ],
   "source": [
    "(B1, B2) = XL.get_B(Fdn_clr, Fdn_all, Fup_all, Fdn_clr_d, Fdn_all_d, T)\n",
    "cloud_albedo = XL.get_cloud_albedo(B1, B2)\n",
    "cloud_albedo = XL.cloud_albedo_correction(cloud_albedo, solar_zen_cosine)\n",
    "cloud_fraction = XL.get_cloud_fraction(cloud_albedo, B1)"
   ]
  },
  {
   "cell_type": "code",
   "execution_count": 30,
   "metadata": {
    "collapsed": false
   },
   "outputs": [
    {
     "data": {
      "image/png": "[encoded data removed]",
      "text/plain": [
       "<matplotlib.figure.Figure at 0x7fefee415400>"
      ]
     },
     "metadata": {},
     "output_type": "display_data"
    },
    {
     "data": {
      "text/plain": [
       "0.28904909"
      ]
     },
     "execution_count": 30,
     "metadata": {},
     "output_type": "execute_result"
    }
   ],
   "source": [
    "plt.hist(B1)\n",
    "plt.show()\n",
    "np.mean(B1)"
   ]
  },
  {
   "cell_type": "code",
   "execution_count": 31,
   "metadata": {
    "collapsed": false,
    "deletable": true,
    "editable": true
   },
   "outputs": [
    {
     "data": {
      "image/png": "[encoded data removed]",
      "text/plain": [
       "<matplotlib.figure.Figure at 0x7fefee565320>"
      ]
     },
     "metadata": {},
     "output_type": "display_data"
    }
   ],
   "source": [
    "plt.subplot(211)\n",
    "plt.hist(B1)\n",
    "plt.subplot(212)\n",
    "plt.hist(B2)\n",
    "plt.show()"
   ]
  },
  {
   "cell_type": "code",
   "execution_count": 6,
   "metadata": {
    "collapsed": false
   },
   "outputs": [
    {
     "data": {
      "image/png": "[encoded data removed]",
      "text/plain": [
       "<matplotlib.figure.Figure at 0x7fefee600f28>"
      ]
     },
     "metadata": {},
     "output_type": "display_data"
    }
   ],
   "source": [
    "plt.hist(cloud_albedo)\n",
    "plt.show()"
   ]
  },
  {
   "cell_type": "code",
   "execution_count": 7,
   "metadata": {
    "collapsed": false
   },
   "outputs": [
    {
     "data": {
      "image/png": "[encoded data removed]",
      "text/plain": [
       "<matplotlib.figure.Figure at 0x7feff0b2b358>"
      ]
     },
     "metadata": {},
     "output_type": "display_data"
    }
   ],
   "source": [
    "plt.hist(cloud_fraction[np.isfinite(cloud_fraction)])\n",
    "plt.show()"
   ]
  },
  {
   "cell_type": "code",
   "execution_count": 136,
   "metadata": {
    "collapsed": false
   },
   "outputs": [
    {
     "data": {
      "text/plain": [
       "1.0170233308984062"
      ]
     },
     "execution_count": 136,
     "metadata": {},
     "output_type": "execute_result"
    }
   ],
   "source": [
    "np.max(cloud_albedo)"
   ]
  },
  {
   "cell_type": "code",
   "execution_count": 10,
   "metadata": {
    "collapsed": false
   },
   "outputs": [
    {
     "data": {
      "text/plain": [
       "masked_array(data = [0.0 0.0 0.0 ..., 0.0 0.0 0.0],\n",
       "             mask = [False False False ..., False False False],\n",
       "       fill_value = -9999.0)"
      ]
     },
     "execution_count": 10,
     "metadata": {},
     "output_type": "execute_result"
    }
   ],
   "source": [
    "Fup_all"
   ]
  },
  {
   "cell_type": "code",
   "execution_count": 14,
   "metadata": {
    "collapsed": false
   },
   "outputs": [
    {
     "data": {
      "text/plain": [
       "array([ True,  True,  True, ...,  True,  True,  True], dtype=bool)"
      ]
     },
     "execution_count": 14,
     "metadata": {},
     "output_type": "execute_result"
    }
   ],
   "source": [
    "cod.mask"
   ]
  },
  {
   "cell_type": "code",
   "execution_count": null,
   "metadata": {
    "collapsed": true
   },
   "outputs": [],
   "source": []
  }
 ],
 "metadata": {
  "kernelspec": {
   "display_name": "Python 3",
   "language": "python",
   "name": "python3"
  },
  "language_info": {
   "codemirror_mode": {
    "name": "ipython",
    "version": 3
   },
   "file_extension": ".py",
   "mimetype": "text/x-python",
   "name": "python",
   "nbconvert_exporter": "python",
   "pygments_lexer": "ipython3",
   "version": "3.5.2+"
  }
 },
 "nbformat": 4,
 "nbformat_minor": 2
}
