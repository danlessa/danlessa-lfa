{
 "cells": [
  {
   "cell_type": "code",
   "execution_count": 1,
   "metadata": {
    "collapsed": true
   },
   "outputs": [],
   "source": [
    "%matplotlib notebook\n",
    "import numpy as np\n",
    "import matplotlib.pyplot as plt\n",
    "import pandas as pd\n",
    "import time\n",
    "from collections import namedtuple\n",
    "import os\n",
    "import os.path"
   ]
  },
  {
   "cell_type": "code",
   "execution_count": 2,
   "metadata": {
    "collapsed": false
   },
   "outputs": [],
   "source": [
    "Result = namedtuple(\"Result\", \"full_fraction invalid_fraction discarded_fraction\")"
   ]
  },
  {
   "cell_type": "code",
   "execution_count": 3,
   "metadata": {
    "collapsed": true
   },
   "outputs": [],
   "source": [
    "def check_clouded(dat):\n",
    "    old_qtd = len(dat)\n",
    "    dat = dat[dat >= 0]\n",
    "    qtd = len(dat)\n",
    "    discarded = 1 - qtd / old_qtd\n",
    "    \n",
    "    full = len(dat[dat == 1]) / qtd\n",
    "    invalid = len(dat[dat > 1]) / qtd\n",
    "    return Result(full, invalid, discarded)\n",
    "\n",
    "def check_clouded_out(res):\n",
    "    return \"CF 1.0: %.2f\\t CF > 1.0: %.2f\\n\" % (res.full_fraction, res.invalid_fraction)"
   ]
  },
  {
   "cell_type": "code",
   "execution_count": 4,
   "metadata": {
    "collapsed": false
   },
   "outputs": [
    {
     "data": {
      "text/plain": [
       "'asd'"
      ]
     },
     "execution_count": 4,
     "metadata": {},
     "output_type": "execute_result"
    }
   ],
   "source": [
    "\"asd.qwe\"[:3]"
   ]
  },
  {
   "cell_type": "code",
   "execution_count": 5,
   "metadata": {
    "collapsed": false
   },
   "outputs": [],
   "source": [
    "folder_path = \"dados/goamazon-radiometro/\"\n",
    "listdir = os.listdir(folder_path)\n",
    "files = [(folder_path + path, path) for path in listdir if path[-3:] == \"csv\"]"
   ]
  },
  {
   "cell_type": "code",
   "execution_count": 6,
   "metadata": {
    "collapsed": false
   },
   "outputs": [],
   "source": [
    "string = \"\"\n",
    "for f in files:\n",
    "        df = pd.read_csv(f[0])\n",
    "        res_cirs = check_clouded(df.cfsirs)\n",
    "        res_xl = check_clouded(df.cfXL)\n",
    "        res_tsky = check_clouded(df.cftottsky)\n",
    "        string += \"%s\\n\" % f[1]\n",
    "        string += \"CIRS\\t %s\" % check_clouded_out(res_cirs)\n",
    "        string += \"X & L\\t %s\" % check_clouded_out(res_xl)\n",
    "        string += \"TSKY\\t %s\" % check_clouded_out(res_tsky)\n",
    "        string += \"\\n\\n\""
   ]
  },
  {
   "cell_type": "code",
   "execution_count": 7,
   "metadata": {
    "collapsed": false
   },
   "outputs": [],
   "source": [
    "with open(\"result.txt\", \"w\") as fid:\n",
    "    fid.write(string)"
   ]
  },
  {
   "cell_type": "code",
   "execution_count": null,
   "metadata": {
    "collapsed": true
   },
   "outputs": [],
   "source": []
  }
 ],
 "metadata": {
  "kernelspec": {
   "display_name": "Python 3",
   "language": "python",
   "name": "python3"
  },
  "language_info": {
   "codemirror_mode": {
    "name": "ipython",
    "version": 3
   },
   "file_extension": ".py",
   "mimetype": "text/x-python",
   "name": "python",
   "nbconvert_exporter": "python",
   "pygments_lexer": "ipython3",
   "version": "3.5.2+"
  }
 },
 "nbformat": 4,
 "nbformat_minor": 0
}
